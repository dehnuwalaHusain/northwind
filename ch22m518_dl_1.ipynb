{
  "nbformat": 4,
  "nbformat_minor": 0,
  "metadata": {
    "colab": {
      "provenance": []
    },
    "kernelspec": {
      "name": "python3",
      "display_name": "Python 3"
    },
    "language_info": {
      "name": "python"
    }
  },
  "cells": [
    {
      "cell_type": "markdown",
      "source": [
        "### CH22M518 - Husain Dehnuwala\n",
        "### Assignment 1"
      ],
      "metadata": {
        "id": "xxn1gUj2bFAB"
      }
    },
    {
      "cell_type": "code",
      "execution_count": 1,
      "metadata": {
        "id": "cgzvun2K5Xbf"
      },
      "outputs": [],
      "source": [
        "from sklearn.linear_model import LinearRegression, SGDRegressor, LogisticRegression\n",
        "from sklearn.ensemble import GradientBoostingRegressor\n",
        "from sklearn.model_selection import train_test_split, KFold, GridSearchCV, cross_val_score\n",
        "from sklearn.preprocessing import MinMaxScaler, StandardScaler\n",
        "from sklearn import metrics\n",
        "from imblearn.over_sampling import SMOTE\n",
        "from sklearn.impute import SimpleImputer, KNNImputer\n",
        "from sklearn.feature_selection import RFE, SelectKBest, f_regression\n",
        "\n",
        "import pandas as pd\n",
        "import numpy as np\n",
        "import seaborn as sns\n",
        "import matplotlib.pyplot as plt\n",
        "\n",
        "import statsmodels.api as sm\n",
        "import scipy.stats as st\n",
        "\n",
        "import random\n",
        "import math as m\n",
        "\n",
        "\n",
        "sns.set(style='whitegrid', palette='hls')\n",
        "%matplotlib inline"
      ]
    },
    {
      "cell_type": "markdown",
      "source": [
        "#### **Q1 - Linear Regression**"
      ],
      "metadata": {
        "id": "LsAqrJTabQ3x"
      }
    },
    {
      "cell_type": "markdown",
      "source": [
        "##### **1. The given Housing price dataset is divided into Training, Validation and Test dataset using a 70: 20: 10 ratio. (For the description of the dataset please refer this link)**\n",
        "\n",
        "##### **2. The first 13 columns indicate features and the last column 'Price' indicates Target.**"
      ],
      "metadata": {
        "id": "BVTxKQzxbkkN"
      }
    },
    {
      "cell_type": "code",
      "source": [
        "house = pd.read_csv ( 'train.csv' )\n",
        "house"
      ],
      "metadata": {
        "colab": {
          "base_uri": "https://localhost:8080/",
          "height": 423
        },
        "id": "Iy_BX63lbQT_",
        "outputId": "1b4fa2cf-7f36-455e-ac06-06c64913251f"
      },
      "execution_count": 2,
      "outputs": [
        {
          "output_type": "execute_result",
          "data": {
            "text/plain": [
              "        CRIM    ZN  INDUS  CHAS    NOX     RM    AGE     DIS  RAD    TAX  \\\n",
              "0    1.62864   0.0  21.89   0.0  0.624  5.019  100.0  1.4394  4.0  437.0   \n",
              "1    0.11460  20.0   6.96   0.0  0.464  6.538   58.7  3.9175  3.0  223.0   \n",
              "2    0.55778   0.0  21.89   0.0  0.624  6.335   98.2  2.1107  4.0  437.0   \n",
              "3    0.06466  70.0   2.24   0.0  0.400  6.345   20.1  7.8278  5.0  358.0   \n",
              "4    0.09299   0.0  25.65   0.0  0.581  5.961   92.9  2.0869  2.0  188.0   \n",
              "..       ...   ...    ...   ...    ...    ...    ...     ...  ...    ...   \n",
              "349  0.28392   0.0   7.38   0.0  0.493  5.708   74.3  4.7211  5.0  287.0   \n",
              "350  0.08664  45.0   3.44   0.0  0.437  7.178   26.3  6.4798  5.0  398.0   \n",
              "351  0.15098   0.0  10.01   0.0  0.547  6.021   82.6  2.7474  6.0  432.0   \n",
              "352  0.22927   0.0   6.91   0.0  0.448  6.030   85.5  5.6894  3.0  233.0   \n",
              "353  0.13914   0.0   4.05   0.0  0.510  5.572   88.5  2.5961  5.0  296.0   \n",
              "\n",
              "     PTRATIO       B  LSTAT  Price  \n",
              "0       21.2  396.90  34.41   14.4  \n",
              "1       18.6  394.96   7.73   24.4  \n",
              "2       21.2  394.67  16.96   18.1  \n",
              "3       14.8  368.24   4.97   22.5  \n",
              "4       19.1  378.09  17.93   20.5  \n",
              "..       ...     ...    ...    ...  \n",
              "349     19.6  391.13  11.74   18.5  \n",
              "350     15.2  390.49   2.87   36.4  \n",
              "351     17.8  394.51  10.30   19.2  \n",
              "352     17.9  392.74  18.80   16.6  \n",
              "353     16.6  396.90  14.69   23.1  \n",
              "\n",
              "[354 rows x 14 columns]"
            ],
            "text/html": [
              "\n",
              "  <div id=\"df-fd038594-1064-4948-9281-794527e037e9\">\n",
              "    <div class=\"colab-df-container\">\n",
              "      <div>\n",
              "<style scoped>\n",
              "    .dataframe tbody tr th:only-of-type {\n",
              "        vertical-align: middle;\n",
              "    }\n",
              "\n",
              "    .dataframe tbody tr th {\n",
              "        vertical-align: top;\n",
              "    }\n",
              "\n",
              "    .dataframe thead th {\n",
              "        text-align: right;\n",
              "    }\n",
              "</style>\n",
              "<table border=\"1\" class=\"dataframe\">\n",
              "  <thead>\n",
              "    <tr style=\"text-align: right;\">\n",
              "      <th></th>\n",
              "      <th>CRIM</th>\n",
              "      <th>ZN</th>\n",
              "      <th>INDUS</th>\n",
              "      <th>CHAS</th>\n",
              "      <th>NOX</th>\n",
              "      <th>RM</th>\n",
              "      <th>AGE</th>\n",
              "      <th>DIS</th>\n",
              "      <th>RAD</th>\n",
              "      <th>TAX</th>\n",
              "      <th>PTRATIO</th>\n",
              "      <th>B</th>\n",
              "      <th>LSTAT</th>\n",
              "      <th>Price</th>\n",
              "    </tr>\n",
              "  </thead>\n",
              "  <tbody>\n",
              "    <tr>\n",
              "      <th>0</th>\n",
              "      <td>1.62864</td>\n",
              "      <td>0.0</td>\n",
              "      <td>21.89</td>\n",
              "      <td>0.0</td>\n",
              "      <td>0.624</td>\n",
              "      <td>5.019</td>\n",
              "      <td>100.0</td>\n",
              "      <td>1.4394</td>\n",
              "      <td>4.0</td>\n",
              "      <td>437.0</td>\n",
              "      <td>21.2</td>\n",
              "      <td>396.90</td>\n",
              "      <td>34.41</td>\n",
              "      <td>14.4</td>\n",
              "    </tr>\n",
              "    <tr>\n",
              "      <th>1</th>\n",
              "      <td>0.11460</td>\n",
              "      <td>20.0</td>\n",
              "      <td>6.96</td>\n",
              "      <td>0.0</td>\n",
              "      <td>0.464</td>\n",
              "      <td>6.538</td>\n",
              "      <td>58.7</td>\n",
              "      <td>3.9175</td>\n",
              "      <td>3.0</td>\n",
              "      <td>223.0</td>\n",
              "      <td>18.6</td>\n",
              "      <td>394.96</td>\n",
              "      <td>7.73</td>\n",
              "      <td>24.4</td>\n",
              "    </tr>\n",
              "    <tr>\n",
              "      <th>2</th>\n",
              "      <td>0.55778</td>\n",
              "      <td>0.0</td>\n",
              "      <td>21.89</td>\n",
              "      <td>0.0</td>\n",
              "      <td>0.624</td>\n",
              "      <td>6.335</td>\n",
              "      <td>98.2</td>\n",
              "      <td>2.1107</td>\n",
              "      <td>4.0</td>\n",
              "      <td>437.0</td>\n",
              "      <td>21.2</td>\n",
              "      <td>394.67</td>\n",
              "      <td>16.96</td>\n",
              "      <td>18.1</td>\n",
              "    </tr>\n",
              "    <tr>\n",
              "      <th>3</th>\n",
              "      <td>0.06466</td>\n",
              "      <td>70.0</td>\n",
              "      <td>2.24</td>\n",
              "      <td>0.0</td>\n",
              "      <td>0.400</td>\n",
              "      <td>6.345</td>\n",
              "      <td>20.1</td>\n",
              "      <td>7.8278</td>\n",
              "      <td>5.0</td>\n",
              "      <td>358.0</td>\n",
              "      <td>14.8</td>\n",
              "      <td>368.24</td>\n",
              "      <td>4.97</td>\n",
              "      <td>22.5</td>\n",
              "    </tr>\n",
              "    <tr>\n",
              "      <th>4</th>\n",
              "      <td>0.09299</td>\n",
              "      <td>0.0</td>\n",
              "      <td>25.65</td>\n",
              "      <td>0.0</td>\n",
              "      <td>0.581</td>\n",
              "      <td>5.961</td>\n",
              "      <td>92.9</td>\n",
              "      <td>2.0869</td>\n",
              "      <td>2.0</td>\n",
              "      <td>188.0</td>\n",
              "      <td>19.1</td>\n",
              "      <td>378.09</td>\n",
              "      <td>17.93</td>\n",
              "      <td>20.5</td>\n",
              "    </tr>\n",
              "    <tr>\n",
              "      <th>...</th>\n",
              "      <td>...</td>\n",
              "      <td>...</td>\n",
              "      <td>...</td>\n",
              "      <td>...</td>\n",
              "      <td>...</td>\n",
              "      <td>...</td>\n",
              "      <td>...</td>\n",
              "      <td>...</td>\n",
              "      <td>...</td>\n",
              "      <td>...</td>\n",
              "      <td>...</td>\n",
              "      <td>...</td>\n",
              "      <td>...</td>\n",
              "      <td>...</td>\n",
              "    </tr>\n",
              "    <tr>\n",
              "      <th>349</th>\n",
              "      <td>0.28392</td>\n",
              "      <td>0.0</td>\n",
              "      <td>7.38</td>\n",
              "      <td>0.0</td>\n",
              "      <td>0.493</td>\n",
              "      <td>5.708</td>\n",
              "      <td>74.3</td>\n",
              "      <td>4.7211</td>\n",
              "      <td>5.0</td>\n",
              "      <td>287.0</td>\n",
              "      <td>19.6</td>\n",
              "      <td>391.13</td>\n",
              "      <td>11.74</td>\n",
              "      <td>18.5</td>\n",
              "    </tr>\n",
              "    <tr>\n",
              "      <th>350</th>\n",
              "      <td>0.08664</td>\n",
              "      <td>45.0</td>\n",
              "      <td>3.44</td>\n",
              "      <td>0.0</td>\n",
              "      <td>0.437</td>\n",
              "      <td>7.178</td>\n",
              "      <td>26.3</td>\n",
              "      <td>6.4798</td>\n",
              "      <td>5.0</td>\n",
              "      <td>398.0</td>\n",
              "      <td>15.2</td>\n",
              "      <td>390.49</td>\n",
              "      <td>2.87</td>\n",
              "      <td>36.4</td>\n",
              "    </tr>\n",
              "    <tr>\n",
              "      <th>351</th>\n",
              "      <td>0.15098</td>\n",
              "      <td>0.0</td>\n",
              "      <td>10.01</td>\n",
              "      <td>0.0</td>\n",
              "      <td>0.547</td>\n",
              "      <td>6.021</td>\n",
              "      <td>82.6</td>\n",
              "      <td>2.7474</td>\n",
              "      <td>6.0</td>\n",
              "      <td>432.0</td>\n",
              "      <td>17.8</td>\n",
              "      <td>394.51</td>\n",
              "      <td>10.30</td>\n",
              "      <td>19.2</td>\n",
              "    </tr>\n",
              "    <tr>\n",
              "      <th>352</th>\n",
              "      <td>0.22927</td>\n",
              "      <td>0.0</td>\n",
              "      <td>6.91</td>\n",
              "      <td>0.0</td>\n",
              "      <td>0.448</td>\n",
              "      <td>6.030</td>\n",
              "      <td>85.5</td>\n",
              "      <td>5.6894</td>\n",
              "      <td>3.0</td>\n",
              "      <td>233.0</td>\n",
              "      <td>17.9</td>\n",
              "      <td>392.74</td>\n",
              "      <td>18.80</td>\n",
              "      <td>16.6</td>\n",
              "    </tr>\n",
              "    <tr>\n",
              "      <th>353</th>\n",
              "      <td>0.13914</td>\n",
              "      <td>0.0</td>\n",
              "      <td>4.05</td>\n",
              "      <td>0.0</td>\n",
              "      <td>0.510</td>\n",
              "      <td>5.572</td>\n",
              "      <td>88.5</td>\n",
              "      <td>2.5961</td>\n",
              "      <td>5.0</td>\n",
              "      <td>296.0</td>\n",
              "      <td>16.6</td>\n",
              "      <td>396.90</td>\n",
              "      <td>14.69</td>\n",
              "      <td>23.1</td>\n",
              "    </tr>\n",
              "  </tbody>\n",
              "</table>\n",
              "<p>354 rows × 14 columns</p>\n",
              "</div>\n",
              "      <button class=\"colab-df-convert\" onclick=\"convertToInteractive('df-fd038594-1064-4948-9281-794527e037e9')\"\n",
              "              title=\"Convert this dataframe to an interactive table.\"\n",
              "              style=\"display:none;\">\n",
              "        \n",
              "  <svg xmlns=\"http://www.w3.org/2000/svg\" height=\"24px\"viewBox=\"0 0 24 24\"\n",
              "       width=\"24px\">\n",
              "    <path d=\"M0 0h24v24H0V0z\" fill=\"none\"/>\n",
              "    <path d=\"M18.56 5.44l.94 2.06.94-2.06 2.06-.94-2.06-.94-.94-2.06-.94 2.06-2.06.94zm-11 1L8.5 8.5l.94-2.06 2.06-.94-2.06-.94L8.5 2.5l-.94 2.06-2.06.94zm10 10l.94 2.06.94-2.06 2.06-.94-2.06-.94-.94-2.06-.94 2.06-2.06.94z\"/><path d=\"M17.41 7.96l-1.37-1.37c-.4-.4-.92-.59-1.43-.59-.52 0-1.04.2-1.43.59L10.3 9.45l-7.72 7.72c-.78.78-.78 2.05 0 2.83L4 21.41c.39.39.9.59 1.41.59.51 0 1.02-.2 1.41-.59l7.78-7.78 2.81-2.81c.8-.78.8-2.07 0-2.86zM5.41 20L4 18.59l7.72-7.72 1.47 1.35L5.41 20z\"/>\n",
              "  </svg>\n",
              "      </button>\n",
              "      \n",
              "  <style>\n",
              "    .colab-df-container {\n",
              "      display:flex;\n",
              "      flex-wrap:wrap;\n",
              "      gap: 12px;\n",
              "    }\n",
              "\n",
              "    .colab-df-convert {\n",
              "      background-color: #E8F0FE;\n",
              "      border: none;\n",
              "      border-radius: 50%;\n",
              "      cursor: pointer;\n",
              "      display: none;\n",
              "      fill: #1967D2;\n",
              "      height: 32px;\n",
              "      padding: 0 0 0 0;\n",
              "      width: 32px;\n",
              "    }\n",
              "\n",
              "    .colab-df-convert:hover {\n",
              "      background-color: #E2EBFA;\n",
              "      box-shadow: 0px 1px 2px rgba(60, 64, 67, 0.3), 0px 1px 3px 1px rgba(60, 64, 67, 0.15);\n",
              "      fill: #174EA6;\n",
              "    }\n",
              "\n",
              "    [theme=dark] .colab-df-convert {\n",
              "      background-color: #3B4455;\n",
              "      fill: #D2E3FC;\n",
              "    }\n",
              "\n",
              "    [theme=dark] .colab-df-convert:hover {\n",
              "      background-color: #434B5C;\n",
              "      box-shadow: 0px 1px 3px 1px rgba(0, 0, 0, 0.15);\n",
              "      filter: drop-shadow(0px 1px 2px rgba(0, 0, 0, 0.3));\n",
              "      fill: #FFFFFF;\n",
              "    }\n",
              "  </style>\n",
              "\n",
              "      <script>\n",
              "        const buttonEl =\n",
              "          document.querySelector('#df-fd038594-1064-4948-9281-794527e037e9 button.colab-df-convert');\n",
              "        buttonEl.style.display =\n",
              "          google.colab.kernel.accessAllowed ? 'block' : 'none';\n",
              "\n",
              "        async function convertToInteractive(key) {\n",
              "          const element = document.querySelector('#df-fd038594-1064-4948-9281-794527e037e9');\n",
              "          const dataTable =\n",
              "            await google.colab.kernel.invokeFunction('convertToInteractive',\n",
              "                                                     [key], {});\n",
              "          if (!dataTable) return;\n",
              "\n",
              "          const docLinkHtml = 'Like what you see? Visit the ' +\n",
              "            '<a target=\"_blank\" href=https://colab.research.google.com/notebooks/data_table.ipynb>data table notebook</a>'\n",
              "            + ' to learn more about interactive tables.';\n",
              "          element.innerHTML = '';\n",
              "          dataTable['output_type'] = 'display_data';\n",
              "          await google.colab.output.renderOutput(dataTable, element);\n",
              "          const docLink = document.createElement('div');\n",
              "          docLink.innerHTML = docLinkHtml;\n",
              "          element.appendChild(docLink);\n",
              "        }\n",
              "      </script>\n",
              "    </div>\n",
              "  </div>\n",
              "  "
            ]
          },
          "metadata": {},
          "execution_count": 2
        }
      ]
    },
    {
      "cell_type": "markdown",
      "source": [
        "##### **3. Use the sci-kit learn library for fitting the linear regression model. Use validation data for hyperparameter tuning. Use R-squared value (coefficient of determination) and mean Square error as evaluation metrics.**"
      ],
      "metadata": {
        "id": "5UQAQGrEbvob"
      }
    },
    {
      "cell_type": "code",
      "source": [
        "lr = LinearRegression()"
      ],
      "metadata": {
        "id": "E8kpO1D2b4ts"
      },
      "execution_count": 3,
      "outputs": []
    },
    {
      "cell_type": "code",
      "source": [
        "lr.fit ( house.loc [ :,'CRIM': 'LSTAT' ], house.loc [ :, 'Price' ])\n",
        "print ( lr.intercept_ )\n",
        "print ( lr.coef_ )\n",
        "lr_df = pd.DataFrame ( lr.coef_, index = house.columns [ 0: -1 ],\n",
        "                      columns = [ 'Coeffs' ])\n",
        "lr_df"
      ],
      "metadata": {
        "colab": {
          "base_uri": "https://localhost:8080/",
          "height": 543
        },
        "id": "5YD4VK_EbzfR",
        "outputId": "ad34b4d7-a50f-48fb-cd59-5f5f8503b3f4"
      },
      "execution_count": 4,
      "outputs": [
        {
          "output_type": "stream",
          "name": "stdout",
          "text": [
            "37.937107741833955\n",
            "[-1.21310401e-01  4.44664254e-02  1.13416945e-02  2.51124642e+00\n",
            " -1.62312529e+01  3.85906801e+00 -9.98516565e-03 -1.50026956e+00\n",
            "  2.42143466e-01 -1.10716124e-02 -1.01775264e+00  6.81446545e-03\n",
            " -4.86738066e-01]\n"
          ]
        },
        {
          "output_type": "execute_result",
          "data": {
            "text/plain": [
              "            Coeffs\n",
              "CRIM     -0.121310\n",
              "ZN        0.044466\n",
              "INDUS     0.011342\n",
              "CHAS      2.511246\n",
              "NOX     -16.231253\n",
              "RM        3.859068\n",
              "AGE      -0.009985\n",
              "DIS      -1.500270\n",
              "RAD       0.242143\n",
              "TAX      -0.011072\n",
              "PTRATIO  -1.017753\n",
              "B         0.006814\n",
              "LSTAT    -0.486738"
            ],
            "text/html": [
              "\n",
              "  <div id=\"df-bdc7274f-1560-434b-8fcc-21e63923f551\">\n",
              "    <div class=\"colab-df-container\">\n",
              "      <div>\n",
              "<style scoped>\n",
              "    .dataframe tbody tr th:only-of-type {\n",
              "        vertical-align: middle;\n",
              "    }\n",
              "\n",
              "    .dataframe tbody tr th {\n",
              "        vertical-align: top;\n",
              "    }\n",
              "\n",
              "    .dataframe thead th {\n",
              "        text-align: right;\n",
              "    }\n",
              "</style>\n",
              "<table border=\"1\" class=\"dataframe\">\n",
              "  <thead>\n",
              "    <tr style=\"text-align: right;\">\n",
              "      <th></th>\n",
              "      <th>Coeffs</th>\n",
              "    </tr>\n",
              "  </thead>\n",
              "  <tbody>\n",
              "    <tr>\n",
              "      <th>CRIM</th>\n",
              "      <td>-0.121310</td>\n",
              "    </tr>\n",
              "    <tr>\n",
              "      <th>ZN</th>\n",
              "      <td>0.044466</td>\n",
              "    </tr>\n",
              "    <tr>\n",
              "      <th>INDUS</th>\n",
              "      <td>0.011342</td>\n",
              "    </tr>\n",
              "    <tr>\n",
              "      <th>CHAS</th>\n",
              "      <td>2.511246</td>\n",
              "    </tr>\n",
              "    <tr>\n",
              "      <th>NOX</th>\n",
              "      <td>-16.231253</td>\n",
              "    </tr>\n",
              "    <tr>\n",
              "      <th>RM</th>\n",
              "      <td>3.859068</td>\n",
              "    </tr>\n",
              "    <tr>\n",
              "      <th>AGE</th>\n",
              "      <td>-0.009985</td>\n",
              "    </tr>\n",
              "    <tr>\n",
              "      <th>DIS</th>\n",
              "      <td>-1.500270</td>\n",
              "    </tr>\n",
              "    <tr>\n",
              "      <th>RAD</th>\n",
              "      <td>0.242143</td>\n",
              "    </tr>\n",
              "    <tr>\n",
              "      <th>TAX</th>\n",
              "      <td>-0.011072</td>\n",
              "    </tr>\n",
              "    <tr>\n",
              "      <th>PTRATIO</th>\n",
              "      <td>-1.017753</td>\n",
              "    </tr>\n",
              "    <tr>\n",
              "      <th>B</th>\n",
              "      <td>0.006814</td>\n",
              "    </tr>\n",
              "    <tr>\n",
              "      <th>LSTAT</th>\n",
              "      <td>-0.486738</td>\n",
              "    </tr>\n",
              "  </tbody>\n",
              "</table>\n",
              "</div>\n",
              "      <button class=\"colab-df-convert\" onclick=\"convertToInteractive('df-bdc7274f-1560-434b-8fcc-21e63923f551')\"\n",
              "              title=\"Convert this dataframe to an interactive table.\"\n",
              "              style=\"display:none;\">\n",
              "        \n",
              "  <svg xmlns=\"http://www.w3.org/2000/svg\" height=\"24px\"viewBox=\"0 0 24 24\"\n",
              "       width=\"24px\">\n",
              "    <path d=\"M0 0h24v24H0V0z\" fill=\"none\"/>\n",
              "    <path d=\"M18.56 5.44l.94 2.06.94-2.06 2.06-.94-2.06-.94-.94-2.06-.94 2.06-2.06.94zm-11 1L8.5 8.5l.94-2.06 2.06-.94-2.06-.94L8.5 2.5l-.94 2.06-2.06.94zm10 10l.94 2.06.94-2.06 2.06-.94-2.06-.94-.94-2.06-.94 2.06-2.06.94z\"/><path d=\"M17.41 7.96l-1.37-1.37c-.4-.4-.92-.59-1.43-.59-.52 0-1.04.2-1.43.59L10.3 9.45l-7.72 7.72c-.78.78-.78 2.05 0 2.83L4 21.41c.39.39.9.59 1.41.59.51 0 1.02-.2 1.41-.59l7.78-7.78 2.81-2.81c.8-.78.8-2.07 0-2.86zM5.41 20L4 18.59l7.72-7.72 1.47 1.35L5.41 20z\"/>\n",
              "  </svg>\n",
              "      </button>\n",
              "      \n",
              "  <style>\n",
              "    .colab-df-container {\n",
              "      display:flex;\n",
              "      flex-wrap:wrap;\n",
              "      gap: 12px;\n",
              "    }\n",
              "\n",
              "    .colab-df-convert {\n",
              "      background-color: #E8F0FE;\n",
              "      border: none;\n",
              "      border-radius: 50%;\n",
              "      cursor: pointer;\n",
              "      display: none;\n",
              "      fill: #1967D2;\n",
              "      height: 32px;\n",
              "      padding: 0 0 0 0;\n",
              "      width: 32px;\n",
              "    }\n",
              "\n",
              "    .colab-df-convert:hover {\n",
              "      background-color: #E2EBFA;\n",
              "      box-shadow: 0px 1px 2px rgba(60, 64, 67, 0.3), 0px 1px 3px 1px rgba(60, 64, 67, 0.15);\n",
              "      fill: #174EA6;\n",
              "    }\n",
              "\n",
              "    [theme=dark] .colab-df-convert {\n",
              "      background-color: #3B4455;\n",
              "      fill: #D2E3FC;\n",
              "    }\n",
              "\n",
              "    [theme=dark] .colab-df-convert:hover {\n",
              "      background-color: #434B5C;\n",
              "      box-shadow: 0px 1px 3px 1px rgba(0, 0, 0, 0.15);\n",
              "      filter: drop-shadow(0px 1px 2px rgba(0, 0, 0, 0.3));\n",
              "      fill: #FFFFFF;\n",
              "    }\n",
              "  </style>\n",
              "\n",
              "      <script>\n",
              "        const buttonEl =\n",
              "          document.querySelector('#df-bdc7274f-1560-434b-8fcc-21e63923f551 button.colab-df-convert');\n",
              "        buttonEl.style.display =\n",
              "          google.colab.kernel.accessAllowed ? 'block' : 'none';\n",
              "\n",
              "        async function convertToInteractive(key) {\n",
              "          const element = document.querySelector('#df-bdc7274f-1560-434b-8fcc-21e63923f551');\n",
              "          const dataTable =\n",
              "            await google.colab.kernel.invokeFunction('convertToInteractive',\n",
              "                                                     [key], {});\n",
              "          if (!dataTable) return;\n",
              "\n",
              "          const docLinkHtml = 'Like what you see? Visit the ' +\n",
              "            '<a target=\"_blank\" href=https://colab.research.google.com/notebooks/data_table.ipynb>data table notebook</a>'\n",
              "            + ' to learn more about interactive tables.';\n",
              "          element.innerHTML = '';\n",
              "          dataTable['output_type'] = 'display_data';\n",
              "          await google.colab.output.renderOutput(dataTable, element);\n",
              "          const docLink = document.createElement('div');\n",
              "          docLink.innerHTML = docLinkHtml;\n",
              "          element.appendChild(docLink);\n",
              "        }\n",
              "      </script>\n",
              "    </div>\n",
              "  </div>\n",
              "  "
            ]
          },
          "metadata": {},
          "execution_count": 4
        }
      ]
    },
    {
      "cell_type": "markdown",
      "source": [
        "**Using Validation set for hyperparameter tuning**"
      ],
      "metadata": {
        "id": "nXiGarzzcb-o"
      }
    },
    {
      "cell_type": "code",
      "source": [
        "validation_data = pd.read_csv ( 'validation.csv' )\n",
        "validation_data"
      ],
      "metadata": {
        "colab": {
          "base_uri": "https://localhost:8080/",
          "height": 423
        },
        "id": "Z8Q7qwsicMR0",
        "outputId": "11ad2f70-2943-4ba0-b93d-bd3e15a98bd4"
      },
      "execution_count": 5,
      "outputs": [
        {
          "output_type": "execute_result",
          "data": {
            "text/plain": [
              "        CRIM    ZN  INDUS  CHAS    NOX     RM   AGE     DIS  RAD    TAX  \\\n",
              "0    0.01778  95.0   1.47   0.0  0.403  7.135  13.9  7.6534  3.0  402.0   \n",
              "1    0.06911  45.0   3.44   0.0  0.437  6.739  30.8  6.4798  5.0  398.0   \n",
              "2    0.17446   0.0  10.59   1.0  0.489  5.960  92.1  3.8771  4.0  277.0   \n",
              "3    0.05360  21.0   5.64   0.0  0.439  6.511  21.1  6.8147  4.0  243.0   \n",
              "4    0.19073  22.0   5.86   0.0  0.431  6.718  17.5  7.8265  7.0  330.0   \n",
              "..       ...   ...    ...   ...    ...    ...   ...     ...  ...    ...   \n",
              "96   0.22876   0.0   8.56   0.0  0.520  6.405  85.4  2.7147  5.0  384.0   \n",
              "97   0.15876   0.0  10.81   0.0  0.413  5.961  17.5  5.2873  4.0  305.0   \n",
              "98   0.22489  12.5   7.87   0.0  0.524  6.377  94.3  6.3467  5.0  311.0   \n",
              "99   0.59005   0.0  21.89   0.0  0.624  6.372  97.9  2.3274  4.0  437.0   \n",
              "100  1.41385   0.0  19.58   1.0  0.871  6.129  96.0  1.7494  5.0  403.0   \n",
              "\n",
              "     PTRATIO       B  LSTAT  Price  \n",
              "0       17.0  384.30   4.45   32.9  \n",
              "1       15.2  389.71   4.69   30.5  \n",
              "2       18.6  393.25  17.27   21.7  \n",
              "3       16.8  396.90   5.28   25.0  \n",
              "4       19.1  393.74   6.56   26.2  \n",
              "..       ...     ...    ...    ...  \n",
              "96      20.9   70.80  10.63   18.6  \n",
              "97      19.2  376.94   9.88   21.7  \n",
              "98      15.2  392.52  20.45   15.0  \n",
              "99      21.2  385.76  11.12   23.0  \n",
              "100     14.7  321.02  15.12   17.0  \n",
              "\n",
              "[101 rows x 14 columns]"
            ],
            "text/html": [
              "\n",
              "  <div id=\"df-2149e523-56d5-4c08-90e2-f5c1b64c5a3b\">\n",
              "    <div class=\"colab-df-container\">\n",
              "      <div>\n",
              "<style scoped>\n",
              "    .dataframe tbody tr th:only-of-type {\n",
              "        vertical-align: middle;\n",
              "    }\n",
              "\n",
              "    .dataframe tbody tr th {\n",
              "        vertical-align: top;\n",
              "    }\n",
              "\n",
              "    .dataframe thead th {\n",
              "        text-align: right;\n",
              "    }\n",
              "</style>\n",
              "<table border=\"1\" class=\"dataframe\">\n",
              "  <thead>\n",
              "    <tr style=\"text-align: right;\">\n",
              "      <th></th>\n",
              "      <th>CRIM</th>\n",
              "      <th>ZN</th>\n",
              "      <th>INDUS</th>\n",
              "      <th>CHAS</th>\n",
              "      <th>NOX</th>\n",
              "      <th>RM</th>\n",
              "      <th>AGE</th>\n",
              "      <th>DIS</th>\n",
              "      <th>RAD</th>\n",
              "      <th>TAX</th>\n",
              "      <th>PTRATIO</th>\n",
              "      <th>B</th>\n",
              "      <th>LSTAT</th>\n",
              "      <th>Price</th>\n",
              "    </tr>\n",
              "  </thead>\n",
              "  <tbody>\n",
              "    <tr>\n",
              "      <th>0</th>\n",
              "      <td>0.01778</td>\n",
              "      <td>95.0</td>\n",
              "      <td>1.47</td>\n",
              "      <td>0.0</td>\n",
              "      <td>0.403</td>\n",
              "      <td>7.135</td>\n",
              "      <td>13.9</td>\n",
              "      <td>7.6534</td>\n",
              "      <td>3.0</td>\n",
              "      <td>402.0</td>\n",
              "      <td>17.0</td>\n",
              "      <td>384.30</td>\n",
              "      <td>4.45</td>\n",
              "      <td>32.9</td>\n",
              "    </tr>\n",
              "    <tr>\n",
              "      <th>1</th>\n",
              "      <td>0.06911</td>\n",
              "      <td>45.0</td>\n",
              "      <td>3.44</td>\n",
              "      <td>0.0</td>\n",
              "      <td>0.437</td>\n",
              "      <td>6.739</td>\n",
              "      <td>30.8</td>\n",
              "      <td>6.4798</td>\n",
              "      <td>5.0</td>\n",
              "      <td>398.0</td>\n",
              "      <td>15.2</td>\n",
              "      <td>389.71</td>\n",
              "      <td>4.69</td>\n",
              "      <td>30.5</td>\n",
              "    </tr>\n",
              "    <tr>\n",
              "      <th>2</th>\n",
              "      <td>0.17446</td>\n",
              "      <td>0.0</td>\n",
              "      <td>10.59</td>\n",
              "      <td>1.0</td>\n",
              "      <td>0.489</td>\n",
              "      <td>5.960</td>\n",
              "      <td>92.1</td>\n",
              "      <td>3.8771</td>\n",
              "      <td>4.0</td>\n",
              "      <td>277.0</td>\n",
              "      <td>18.6</td>\n",
              "      <td>393.25</td>\n",
              "      <td>17.27</td>\n",
              "      <td>21.7</td>\n",
              "    </tr>\n",
              "    <tr>\n",
              "      <th>3</th>\n",
              "      <td>0.05360</td>\n",
              "      <td>21.0</td>\n",
              "      <td>5.64</td>\n",
              "      <td>0.0</td>\n",
              "      <td>0.439</td>\n",
              "      <td>6.511</td>\n",
              "      <td>21.1</td>\n",
              "      <td>6.8147</td>\n",
              "      <td>4.0</td>\n",
              "      <td>243.0</td>\n",
              "      <td>16.8</td>\n",
              "      <td>396.90</td>\n",
              "      <td>5.28</td>\n",
              "      <td>25.0</td>\n",
              "    </tr>\n",
              "    <tr>\n",
              "      <th>4</th>\n",
              "      <td>0.19073</td>\n",
              "      <td>22.0</td>\n",
              "      <td>5.86</td>\n",
              "      <td>0.0</td>\n",
              "      <td>0.431</td>\n",
              "      <td>6.718</td>\n",
              "      <td>17.5</td>\n",
              "      <td>7.8265</td>\n",
              "      <td>7.0</td>\n",
              "      <td>330.0</td>\n",
              "      <td>19.1</td>\n",
              "      <td>393.74</td>\n",
              "      <td>6.56</td>\n",
              "      <td>26.2</td>\n",
              "    </tr>\n",
              "    <tr>\n",
              "      <th>...</th>\n",
              "      <td>...</td>\n",
              "      <td>...</td>\n",
              "      <td>...</td>\n",
              "      <td>...</td>\n",
              "      <td>...</td>\n",
              "      <td>...</td>\n",
              "      <td>...</td>\n",
              "      <td>...</td>\n",
              "      <td>...</td>\n",
              "      <td>...</td>\n",
              "      <td>...</td>\n",
              "      <td>...</td>\n",
              "      <td>...</td>\n",
              "      <td>...</td>\n",
              "    </tr>\n",
              "    <tr>\n",
              "      <th>96</th>\n",
              "      <td>0.22876</td>\n",
              "      <td>0.0</td>\n",
              "      <td>8.56</td>\n",
              "      <td>0.0</td>\n",
              "      <td>0.520</td>\n",
              "      <td>6.405</td>\n",
              "      <td>85.4</td>\n",
              "      <td>2.7147</td>\n",
              "      <td>5.0</td>\n",
              "      <td>384.0</td>\n",
              "      <td>20.9</td>\n",
              "      <td>70.80</td>\n",
              "      <td>10.63</td>\n",
              "      <td>18.6</td>\n",
              "    </tr>\n",
              "    <tr>\n",
              "      <th>97</th>\n",
              "      <td>0.15876</td>\n",
              "      <td>0.0</td>\n",
              "      <td>10.81</td>\n",
              "      <td>0.0</td>\n",
              "      <td>0.413</td>\n",
              "      <td>5.961</td>\n",
              "      <td>17.5</td>\n",
              "      <td>5.2873</td>\n",
              "      <td>4.0</td>\n",
              "      <td>305.0</td>\n",
              "      <td>19.2</td>\n",
              "      <td>376.94</td>\n",
              "      <td>9.88</td>\n",
              "      <td>21.7</td>\n",
              "    </tr>\n",
              "    <tr>\n",
              "      <th>98</th>\n",
              "      <td>0.22489</td>\n",
              "      <td>12.5</td>\n",
              "      <td>7.87</td>\n",
              "      <td>0.0</td>\n",
              "      <td>0.524</td>\n",
              "      <td>6.377</td>\n",
              "      <td>94.3</td>\n",
              "      <td>6.3467</td>\n",
              "      <td>5.0</td>\n",
              "      <td>311.0</td>\n",
              "      <td>15.2</td>\n",
              "      <td>392.52</td>\n",
              "      <td>20.45</td>\n",
              "      <td>15.0</td>\n",
              "    </tr>\n",
              "    <tr>\n",
              "      <th>99</th>\n",
              "      <td>0.59005</td>\n",
              "      <td>0.0</td>\n",
              "      <td>21.89</td>\n",
              "      <td>0.0</td>\n",
              "      <td>0.624</td>\n",
              "      <td>6.372</td>\n",
              "      <td>97.9</td>\n",
              "      <td>2.3274</td>\n",
              "      <td>4.0</td>\n",
              "      <td>437.0</td>\n",
              "      <td>21.2</td>\n",
              "      <td>385.76</td>\n",
              "      <td>11.12</td>\n",
              "      <td>23.0</td>\n",
              "    </tr>\n",
              "    <tr>\n",
              "      <th>100</th>\n",
              "      <td>1.41385</td>\n",
              "      <td>0.0</td>\n",
              "      <td>19.58</td>\n",
              "      <td>1.0</td>\n",
              "      <td>0.871</td>\n",
              "      <td>6.129</td>\n",
              "      <td>96.0</td>\n",
              "      <td>1.7494</td>\n",
              "      <td>5.0</td>\n",
              "      <td>403.0</td>\n",
              "      <td>14.7</td>\n",
              "      <td>321.02</td>\n",
              "      <td>15.12</td>\n",
              "      <td>17.0</td>\n",
              "    </tr>\n",
              "  </tbody>\n",
              "</table>\n",
              "<p>101 rows × 14 columns</p>\n",
              "</div>\n",
              "      <button class=\"colab-df-convert\" onclick=\"convertToInteractive('df-2149e523-56d5-4c08-90e2-f5c1b64c5a3b')\"\n",
              "              title=\"Convert this dataframe to an interactive table.\"\n",
              "              style=\"display:none;\">\n",
              "        \n",
              "  <svg xmlns=\"http://www.w3.org/2000/svg\" height=\"24px\"viewBox=\"0 0 24 24\"\n",
              "       width=\"24px\">\n",
              "    <path d=\"M0 0h24v24H0V0z\" fill=\"none\"/>\n",
              "    <path d=\"M18.56 5.44l.94 2.06.94-2.06 2.06-.94-2.06-.94-.94-2.06-.94 2.06-2.06.94zm-11 1L8.5 8.5l.94-2.06 2.06-.94-2.06-.94L8.5 2.5l-.94 2.06-2.06.94zm10 10l.94 2.06.94-2.06 2.06-.94-2.06-.94-.94-2.06-.94 2.06-2.06.94z\"/><path d=\"M17.41 7.96l-1.37-1.37c-.4-.4-.92-.59-1.43-.59-.52 0-1.04.2-1.43.59L10.3 9.45l-7.72 7.72c-.78.78-.78 2.05 0 2.83L4 21.41c.39.39.9.59 1.41.59.51 0 1.02-.2 1.41-.59l7.78-7.78 2.81-2.81c.8-.78.8-2.07 0-2.86zM5.41 20L4 18.59l7.72-7.72 1.47 1.35L5.41 20z\"/>\n",
              "  </svg>\n",
              "      </button>\n",
              "      \n",
              "  <style>\n",
              "    .colab-df-container {\n",
              "      display:flex;\n",
              "      flex-wrap:wrap;\n",
              "      gap: 12px;\n",
              "    }\n",
              "\n",
              "    .colab-df-convert {\n",
              "      background-color: #E8F0FE;\n",
              "      border: none;\n",
              "      border-radius: 50%;\n",
              "      cursor: pointer;\n",
              "      display: none;\n",
              "      fill: #1967D2;\n",
              "      height: 32px;\n",
              "      padding: 0 0 0 0;\n",
              "      width: 32px;\n",
              "    }\n",
              "\n",
              "    .colab-df-convert:hover {\n",
              "      background-color: #E2EBFA;\n",
              "      box-shadow: 0px 1px 2px rgba(60, 64, 67, 0.3), 0px 1px 3px 1px rgba(60, 64, 67, 0.15);\n",
              "      fill: #174EA6;\n",
              "    }\n",
              "\n",
              "    [theme=dark] .colab-df-convert {\n",
              "      background-color: #3B4455;\n",
              "      fill: #D2E3FC;\n",
              "    }\n",
              "\n",
              "    [theme=dark] .colab-df-convert:hover {\n",
              "      background-color: #434B5C;\n",
              "      box-shadow: 0px 1px 3px 1px rgba(0, 0, 0, 0.15);\n",
              "      filter: drop-shadow(0px 1px 2px rgba(0, 0, 0, 0.3));\n",
              "      fill: #FFFFFF;\n",
              "    }\n",
              "  </style>\n",
              "\n",
              "      <script>\n",
              "        const buttonEl =\n",
              "          document.querySelector('#df-2149e523-56d5-4c08-90e2-f5c1b64c5a3b button.colab-df-convert');\n",
              "        buttonEl.style.display =\n",
              "          google.colab.kernel.accessAllowed ? 'block' : 'none';\n",
              "\n",
              "        async function convertToInteractive(key) {\n",
              "          const element = document.querySelector('#df-2149e523-56d5-4c08-90e2-f5c1b64c5a3b');\n",
              "          const dataTable =\n",
              "            await google.colab.kernel.invokeFunction('convertToInteractive',\n",
              "                                                     [key], {});\n",
              "          if (!dataTable) return;\n",
              "\n",
              "          const docLinkHtml = 'Like what you see? Visit the ' +\n",
              "            '<a target=\"_blank\" href=https://colab.research.google.com/notebooks/data_table.ipynb>data table notebook</a>'\n",
              "            + ' to learn more about interactive tables.';\n",
              "          element.innerHTML = '';\n",
              "          dataTable['output_type'] = 'display_data';\n",
              "          await google.colab.output.renderOutput(dataTable, element);\n",
              "          const docLink = document.createElement('div');\n",
              "          docLink.innerHTML = docLinkHtml;\n",
              "          element.appendChild(docLink);\n",
              "        }\n",
              "      </script>\n",
              "    </div>\n",
              "  </div>\n",
              "  "
            ]
          },
          "metadata": {},
          "execution_count": 5
        }
      ]
    },
    {
      "cell_type": "code",
      "source": [
        "# Combining train and validation data set for cross-validation\n",
        "train_valid_data = pd.concat ([ house, validation_data ])\n",
        "train_valid_data.reset_index ( inplace = True)\n",
        "train_valid_data.drop ( columns = [ 'index' ], inplace = True)\n",
        "\n",
        "# Standard Scaling the numerical features\n",
        "scale = StandardScaler()\n",
        "train_valid_scaled = scale.fit_transform ( train_valid_data )\n",
        "train_valid_data2 = pd.DataFrame ( data = train_valid_scaled,\n",
        "                                  index = np.arange ( 0, len ( train_valid_data [ 'Price' ])),\n",
        "                                  columns = train_valid_data.columns )"
      ],
      "metadata": {
        "id": "NlhzVKRdcQaI"
      },
      "execution_count": 6,
      "outputs": []
    },
    {
      "cell_type": "code",
      "source": [
        "# Standard Scaling the numerical features for the train and the validation datasets for future use\n",
        "train_scaled = scale.fit_transform ( house )\n",
        "house2 = pd.DataFrame ( data = train_scaled, \n",
        "                       index = np.arange ( 0, len ( house [ 'Price' ])),\n",
        "                       columns = house.columns )\n",
        "\n",
        "validation_scaled = scale.fit_transform(validation_data)\n",
        "validation2 = pd.DataFrame ( data=validation_scaled, \n",
        "                            index =np.arange ( 0, len ( validation_data [ 'Price' ])),\n",
        "                            columns = validation_data.columns)"
      ],
      "metadata": {
        "id": "dxdxcWOec11M"
      },
      "execution_count": 7,
      "outputs": []
    },
    {
      "cell_type": "code",
      "source": [
        "# We need to decide the no. of folds using KFold module\n",
        "# Trying GridSearchCV with GradientBoostingRegressor\n",
        "\n",
        "kf3 = KFold ( n_splits = 5, shuffle = True, random_state = 123)\n",
        "\n",
        "gdb = GradientBoostingRegressor()\n",
        "\n",
        "search_space ={\n",
        "    \"random_state\": [ 100 ],\n",
        "    'loss': [ 'squared_error', 'absolute_error' ],\n",
        "    'learning_rate': [ 0.05, 0.1, 0.5, 1 ]       \n",
        "}\n",
        "\n",
        "GS = GridSearchCV(estimator = gdb,\n",
        "                 param_grid = search_space,\n",
        "                 scoring = [ \"r2\", \"neg_root_mean_squared_error\" ],\n",
        "                 refit = 'r2',\n",
        "                 cv = kf3,\n",
        "                 verbose = 1 )\n",
        "\n",
        "GS.fit ( train_valid_data2.loc [ :, 'CRIM': 'LSTAT' ], train_valid_data.loc [ :, 'Price' ])"
      ],
      "metadata": {
        "colab": {
          "base_uri": "https://localhost:8080/",
          "height": 134
        },
        "id": "tdF8W-4CdfHt",
        "outputId": "7567c504-06c0-4c16-d2a4-468fcdada927"
      },
      "execution_count": 8,
      "outputs": [
        {
          "output_type": "stream",
          "name": "stdout",
          "text": [
            "Fitting 5 folds for each of 8 candidates, totalling 40 fits\n"
          ]
        },
        {
          "output_type": "execute_result",
          "data": {
            "text/plain": [
              "GridSearchCV(cv=KFold(n_splits=5, random_state=123, shuffle=True),\n",
              "             estimator=GradientBoostingRegressor(),\n",
              "             param_grid={'learning_rate': [0.05, 0.1, 0.5, 1],\n",
              "                         'loss': ['squared_error', 'absolute_error'],\n",
              "                         'random_state': [100]},\n",
              "             refit='r2', scoring=['r2', 'neg_root_mean_squared_error'],\n",
              "             verbose=1)"
            ],
            "text/html": [
              "<style>#sk-container-id-1 {color: black;background-color: white;}#sk-container-id-1 pre{padding: 0;}#sk-container-id-1 div.sk-toggleable {background-color: white;}#sk-container-id-1 label.sk-toggleable__label {cursor: pointer;display: block;width: 100%;margin-bottom: 0;padding: 0.3em;box-sizing: border-box;text-align: center;}#sk-container-id-1 label.sk-toggleable__label-arrow:before {content: \"▸\";float: left;margin-right: 0.25em;color: #696969;}#sk-container-id-1 label.sk-toggleable__label-arrow:hover:before {color: black;}#sk-container-id-1 div.sk-estimator:hover label.sk-toggleable__label-arrow:before {color: black;}#sk-container-id-1 div.sk-toggleable__content {max-height: 0;max-width: 0;overflow: hidden;text-align: left;background-color: #f0f8ff;}#sk-container-id-1 div.sk-toggleable__content pre {margin: 0.2em;color: black;border-radius: 0.25em;background-color: #f0f8ff;}#sk-container-id-1 input.sk-toggleable__control:checked~div.sk-toggleable__content {max-height: 200px;max-width: 100%;overflow: auto;}#sk-container-id-1 input.sk-toggleable__control:checked~label.sk-toggleable__label-arrow:before {content: \"▾\";}#sk-container-id-1 div.sk-estimator input.sk-toggleable__control:checked~label.sk-toggleable__label {background-color: #d4ebff;}#sk-container-id-1 div.sk-label input.sk-toggleable__control:checked~label.sk-toggleable__label {background-color: #d4ebff;}#sk-container-id-1 input.sk-hidden--visually {border: 0;clip: rect(1px 1px 1px 1px);clip: rect(1px, 1px, 1px, 1px);height: 1px;margin: -1px;overflow: hidden;padding: 0;position: absolute;width: 1px;}#sk-container-id-1 div.sk-estimator {font-family: monospace;background-color: #f0f8ff;border: 1px dotted black;border-radius: 0.25em;box-sizing: border-box;margin-bottom: 0.5em;}#sk-container-id-1 div.sk-estimator:hover {background-color: #d4ebff;}#sk-container-id-1 div.sk-parallel-item::after {content: \"\";width: 100%;border-bottom: 1px solid gray;flex-grow: 1;}#sk-container-id-1 div.sk-label:hover label.sk-toggleable__label {background-color: #d4ebff;}#sk-container-id-1 div.sk-serial::before {content: \"\";position: absolute;border-left: 1px solid gray;box-sizing: border-box;top: 0;bottom: 0;left: 50%;z-index: 0;}#sk-container-id-1 div.sk-serial {display: flex;flex-direction: column;align-items: center;background-color: white;padding-right: 0.2em;padding-left: 0.2em;position: relative;}#sk-container-id-1 div.sk-item {position: relative;z-index: 1;}#sk-container-id-1 div.sk-parallel {display: flex;align-items: stretch;justify-content: center;background-color: white;position: relative;}#sk-container-id-1 div.sk-item::before, #sk-container-id-1 div.sk-parallel-item::before {content: \"\";position: absolute;border-left: 1px solid gray;box-sizing: border-box;top: 0;bottom: 0;left: 50%;z-index: -1;}#sk-container-id-1 div.sk-parallel-item {display: flex;flex-direction: column;z-index: 1;position: relative;background-color: white;}#sk-container-id-1 div.sk-parallel-item:first-child::after {align-self: flex-end;width: 50%;}#sk-container-id-1 div.sk-parallel-item:last-child::after {align-self: flex-start;width: 50%;}#sk-container-id-1 div.sk-parallel-item:only-child::after {width: 0;}#sk-container-id-1 div.sk-dashed-wrapped {border: 1px dashed gray;margin: 0 0.4em 0.5em 0.4em;box-sizing: border-box;padding-bottom: 0.4em;background-color: white;}#sk-container-id-1 div.sk-label label {font-family: monospace;font-weight: bold;display: inline-block;line-height: 1.2em;}#sk-container-id-1 div.sk-label-container {text-align: center;}#sk-container-id-1 div.sk-container {/* jupyter's `normalize.less` sets `[hidden] { display: none; }` but bootstrap.min.css set `[hidden] { display: none !important; }` so we also need the `!important` here to be able to override the default hidden behavior on the sphinx rendered scikit-learn.org. See: https://github.com/scikit-learn/scikit-learn/issues/21755 */display: inline-block !important;position: relative;}#sk-container-id-1 div.sk-text-repr-fallback {display: none;}</style><div id=\"sk-container-id-1\" class=\"sk-top-container\"><div class=\"sk-text-repr-fallback\"><pre>GridSearchCV(cv=KFold(n_splits=5, random_state=123, shuffle=True),\n",
              "             estimator=GradientBoostingRegressor(),\n",
              "             param_grid={&#x27;learning_rate&#x27;: [0.05, 0.1, 0.5, 1],\n",
              "                         &#x27;loss&#x27;: [&#x27;squared_error&#x27;, &#x27;absolute_error&#x27;],\n",
              "                         &#x27;random_state&#x27;: [100]},\n",
              "             refit=&#x27;r2&#x27;, scoring=[&#x27;r2&#x27;, &#x27;neg_root_mean_squared_error&#x27;],\n",
              "             verbose=1)</pre><b>In a Jupyter environment, please rerun this cell to show the HTML representation or trust the notebook. <br />On GitHub, the HTML representation is unable to render, please try loading this page with nbviewer.org.</b></div><div class=\"sk-container\" hidden><div class=\"sk-item sk-dashed-wrapped\"><div class=\"sk-label-container\"><div class=\"sk-label sk-toggleable\"><input class=\"sk-toggleable__control sk-hidden--visually\" id=\"sk-estimator-id-1\" type=\"checkbox\" ><label for=\"sk-estimator-id-1\" class=\"sk-toggleable__label sk-toggleable__label-arrow\">GridSearchCV</label><div class=\"sk-toggleable__content\"><pre>GridSearchCV(cv=KFold(n_splits=5, random_state=123, shuffle=True),\n",
              "             estimator=GradientBoostingRegressor(),\n",
              "             param_grid={&#x27;learning_rate&#x27;: [0.05, 0.1, 0.5, 1],\n",
              "                         &#x27;loss&#x27;: [&#x27;squared_error&#x27;, &#x27;absolute_error&#x27;],\n",
              "                         &#x27;random_state&#x27;: [100]},\n",
              "             refit=&#x27;r2&#x27;, scoring=[&#x27;r2&#x27;, &#x27;neg_root_mean_squared_error&#x27;],\n",
              "             verbose=1)</pre></div></div></div><div class=\"sk-parallel\"><div class=\"sk-parallel-item\"><div class=\"sk-item\"><div class=\"sk-label-container\"><div class=\"sk-label sk-toggleable\"><input class=\"sk-toggleable__control sk-hidden--visually\" id=\"sk-estimator-id-2\" type=\"checkbox\" ><label for=\"sk-estimator-id-2\" class=\"sk-toggleable__label sk-toggleable__label-arrow\">estimator: GradientBoostingRegressor</label><div class=\"sk-toggleable__content\"><pre>GradientBoostingRegressor()</pre></div></div></div><div class=\"sk-serial\"><div class=\"sk-item\"><div class=\"sk-estimator sk-toggleable\"><input class=\"sk-toggleable__control sk-hidden--visually\" id=\"sk-estimator-id-3\" type=\"checkbox\" ><label for=\"sk-estimator-id-3\" class=\"sk-toggleable__label sk-toggleable__label-arrow\">GradientBoostingRegressor</label><div class=\"sk-toggleable__content\"><pre>GradientBoostingRegressor()</pre></div></div></div></div></div></div></div></div></div></div>"
            ]
          },
          "metadata": {},
          "execution_count": 8
        }
      ]
    },
    {
      "cell_type": "code",
      "source": [
        "print('1. Best Estimator and Parameter pair: ',GS.best_estimator_, ' \\\n",
        "\\n2. Best Parameters: ', GS.best_params_, '\\\n",
        "\\n3. Best R2 score: ', GS.best_score_)"
      ],
      "metadata": {
        "colab": {
          "base_uri": "https://localhost:8080/"
        },
        "id": "HMZ0Lm0hd_MY",
        "outputId": "c64699c9-e5b6-4f94-b234-9dcf2a2c3824"
      },
      "execution_count": 9,
      "outputs": [
        {
          "output_type": "stream",
          "name": "stdout",
          "text": [
            "1. Best Estimator and Parameter pair:  GradientBoostingRegressor(random_state=100)  \n",
            "2. Best Parameters:  {'learning_rate': 0.1, 'loss': 'squared_error', 'random_state': 100} \n",
            "3. Best R2 score:  0.8892296529791736\n"
          ]
        }
      ]
    },
    {
      "cell_type": "markdown",
      "source": [
        "##### **4. Using the trained model, predict the housing price for the given data in the submission.csv file**"
      ],
      "metadata": {
        "id": "HQuDb7hxfcWR"
      }
    },
    {
      "cell_type": "code",
      "source": [
        "test_data = pd.read_csv ( 'submission.csv' )\n",
        "test_scaled = scale.fit_transform ( test_data )\n",
        "test2 = pd.DataFrame ( data = test_scaled, \n",
        "                      index = np.arange ( 0, len ( test_data [ 'Price' ])),\n",
        "                      columns = test_data.columns)\n",
        "\n",
        "y_pred_lr = GS.predict ( test2.loc [ :, 'CRIM': 'LSTAT' ])\n",
        "\n",
        "y_pred_lr_df = pd.DataFrame ( data = y_pred_lr, \n",
        "                             columns = [ 'Submisison Set Price_Predicted' ])\n",
        "y_pred_lr_df"
      ],
      "metadata": {
        "colab": {
          "base_uri": "https://localhost:8080/",
          "height": 1000
        },
        "id": "-qG5_vL3fWwe",
        "outputId": "e31b60a3-82ad-4547-dbea-ac0497b52ae9"
      },
      "execution_count": 10,
      "outputs": [
        {
          "output_type": "execute_result",
          "data": {
            "text/plain": [
              "    Submisison Set Price_Predicted\n",
              "0                        12.921098\n",
              "1                        24.949797\n",
              "2                        34.516354\n",
              "3                        21.241013\n",
              "4                        28.409831\n",
              "5                        41.689064\n",
              "6                        44.564857\n",
              "7                        21.626649\n",
              "8                        18.697514\n",
              "9                        18.629978\n",
              "10                       23.464117\n",
              "11                       14.677105\n",
              "12                       19.172350\n",
              "13                       17.119449\n",
              "14                       20.053347\n",
              "15                        9.696085\n",
              "16                       21.221052\n",
              "17                       14.828253\n",
              "18                       23.820492\n",
              "19                       20.178191\n",
              "20                       21.945078\n",
              "21                       21.796821\n",
              "22                       20.728433\n",
              "23                       35.386682\n",
              "24                       16.753603\n",
              "25                       31.349817\n",
              "26                       21.080321\n",
              "27                       18.229075\n",
              "28                       22.472627\n",
              "29                       21.928757\n",
              "30                       22.989268\n",
              "31                       12.828545\n",
              "32                       17.216776\n",
              "33                       41.243641\n",
              "34                       21.619982\n",
              "35                       24.786127\n",
              "36                       18.504795\n",
              "37                       24.871360\n",
              "38                       33.439866\n",
              "39                       11.087680\n",
              "40                       32.860540\n",
              "41                       13.320800\n",
              "42                       13.064388\n",
              "43                       15.241473\n",
              "44                       19.692978\n",
              "45                       22.554518\n",
              "46                       23.150459\n",
              "47                       13.366858\n",
              "48                        5.257414\n",
              "49                       32.457992\n",
              "50                       31.780424"
            ],
            "text/html": [
              "\n",
              "  <div id=\"df-84673393-e1ef-4162-ba6e-7ede89c11fc8\">\n",
              "    <div class=\"colab-df-container\">\n",
              "      <div>\n",
              "<style scoped>\n",
              "    .dataframe tbody tr th:only-of-type {\n",
              "        vertical-align: middle;\n",
              "    }\n",
              "\n",
              "    .dataframe tbody tr th {\n",
              "        vertical-align: top;\n",
              "    }\n",
              "\n",
              "    .dataframe thead th {\n",
              "        text-align: right;\n",
              "    }\n",
              "</style>\n",
              "<table border=\"1\" class=\"dataframe\">\n",
              "  <thead>\n",
              "    <tr style=\"text-align: right;\">\n",
              "      <th></th>\n",
              "      <th>Submisison Set Price_Predicted</th>\n",
              "    </tr>\n",
              "  </thead>\n",
              "  <tbody>\n",
              "    <tr>\n",
              "      <th>0</th>\n",
              "      <td>12.921098</td>\n",
              "    </tr>\n",
              "    <tr>\n",
              "      <th>1</th>\n",
              "      <td>24.949797</td>\n",
              "    </tr>\n",
              "    <tr>\n",
              "      <th>2</th>\n",
              "      <td>34.516354</td>\n",
              "    </tr>\n",
              "    <tr>\n",
              "      <th>3</th>\n",
              "      <td>21.241013</td>\n",
              "    </tr>\n",
              "    <tr>\n",
              "      <th>4</th>\n",
              "      <td>28.409831</td>\n",
              "    </tr>\n",
              "    <tr>\n",
              "      <th>5</th>\n",
              "      <td>41.689064</td>\n",
              "    </tr>\n",
              "    <tr>\n",
              "      <th>6</th>\n",
              "      <td>44.564857</td>\n",
              "    </tr>\n",
              "    <tr>\n",
              "      <th>7</th>\n",
              "      <td>21.626649</td>\n",
              "    </tr>\n",
              "    <tr>\n",
              "      <th>8</th>\n",
              "      <td>18.697514</td>\n",
              "    </tr>\n",
              "    <tr>\n",
              "      <th>9</th>\n",
              "      <td>18.629978</td>\n",
              "    </tr>\n",
              "    <tr>\n",
              "      <th>10</th>\n",
              "      <td>23.464117</td>\n",
              "    </tr>\n",
              "    <tr>\n",
              "      <th>11</th>\n",
              "      <td>14.677105</td>\n",
              "    </tr>\n",
              "    <tr>\n",
              "      <th>12</th>\n",
              "      <td>19.172350</td>\n",
              "    </tr>\n",
              "    <tr>\n",
              "      <th>13</th>\n",
              "      <td>17.119449</td>\n",
              "    </tr>\n",
              "    <tr>\n",
              "      <th>14</th>\n",
              "      <td>20.053347</td>\n",
              "    </tr>\n",
              "    <tr>\n",
              "      <th>15</th>\n",
              "      <td>9.696085</td>\n",
              "    </tr>\n",
              "    <tr>\n",
              "      <th>16</th>\n",
              "      <td>21.221052</td>\n",
              "    </tr>\n",
              "    <tr>\n",
              "      <th>17</th>\n",
              "      <td>14.828253</td>\n",
              "    </tr>\n",
              "    <tr>\n",
              "      <th>18</th>\n",
              "      <td>23.820492</td>\n",
              "    </tr>\n",
              "    <tr>\n",
              "      <th>19</th>\n",
              "      <td>20.178191</td>\n",
              "    </tr>\n",
              "    <tr>\n",
              "      <th>20</th>\n",
              "      <td>21.945078</td>\n",
              "    </tr>\n",
              "    <tr>\n",
              "      <th>21</th>\n",
              "      <td>21.796821</td>\n",
              "    </tr>\n",
              "    <tr>\n",
              "      <th>22</th>\n",
              "      <td>20.728433</td>\n",
              "    </tr>\n",
              "    <tr>\n",
              "      <th>23</th>\n",
              "      <td>35.386682</td>\n",
              "    </tr>\n",
              "    <tr>\n",
              "      <th>24</th>\n",
              "      <td>16.753603</td>\n",
              "    </tr>\n",
              "    <tr>\n",
              "      <th>25</th>\n",
              "      <td>31.349817</td>\n",
              "    </tr>\n",
              "    <tr>\n",
              "      <th>26</th>\n",
              "      <td>21.080321</td>\n",
              "    </tr>\n",
              "    <tr>\n",
              "      <th>27</th>\n",
              "      <td>18.229075</td>\n",
              "    </tr>\n",
              "    <tr>\n",
              "      <th>28</th>\n",
              "      <td>22.472627</td>\n",
              "    </tr>\n",
              "    <tr>\n",
              "      <th>29</th>\n",
              "      <td>21.928757</td>\n",
              "    </tr>\n",
              "    <tr>\n",
              "      <th>30</th>\n",
              "      <td>22.989268</td>\n",
              "    </tr>\n",
              "    <tr>\n",
              "      <th>31</th>\n",
              "      <td>12.828545</td>\n",
              "    </tr>\n",
              "    <tr>\n",
              "      <th>32</th>\n",
              "      <td>17.216776</td>\n",
              "    </tr>\n",
              "    <tr>\n",
              "      <th>33</th>\n",
              "      <td>41.243641</td>\n",
              "    </tr>\n",
              "    <tr>\n",
              "      <th>34</th>\n",
              "      <td>21.619982</td>\n",
              "    </tr>\n",
              "    <tr>\n",
              "      <th>35</th>\n",
              "      <td>24.786127</td>\n",
              "    </tr>\n",
              "    <tr>\n",
              "      <th>36</th>\n",
              "      <td>18.504795</td>\n",
              "    </tr>\n",
              "    <tr>\n",
              "      <th>37</th>\n",
              "      <td>24.871360</td>\n",
              "    </tr>\n",
              "    <tr>\n",
              "      <th>38</th>\n",
              "      <td>33.439866</td>\n",
              "    </tr>\n",
              "    <tr>\n",
              "      <th>39</th>\n",
              "      <td>11.087680</td>\n",
              "    </tr>\n",
              "    <tr>\n",
              "      <th>40</th>\n",
              "      <td>32.860540</td>\n",
              "    </tr>\n",
              "    <tr>\n",
              "      <th>41</th>\n",
              "      <td>13.320800</td>\n",
              "    </tr>\n",
              "    <tr>\n",
              "      <th>42</th>\n",
              "      <td>13.064388</td>\n",
              "    </tr>\n",
              "    <tr>\n",
              "      <th>43</th>\n",
              "      <td>15.241473</td>\n",
              "    </tr>\n",
              "    <tr>\n",
              "      <th>44</th>\n",
              "      <td>19.692978</td>\n",
              "    </tr>\n",
              "    <tr>\n",
              "      <th>45</th>\n",
              "      <td>22.554518</td>\n",
              "    </tr>\n",
              "    <tr>\n",
              "      <th>46</th>\n",
              "      <td>23.150459</td>\n",
              "    </tr>\n",
              "    <tr>\n",
              "      <th>47</th>\n",
              "      <td>13.366858</td>\n",
              "    </tr>\n",
              "    <tr>\n",
              "      <th>48</th>\n",
              "      <td>5.257414</td>\n",
              "    </tr>\n",
              "    <tr>\n",
              "      <th>49</th>\n",
              "      <td>32.457992</td>\n",
              "    </tr>\n",
              "    <tr>\n",
              "      <th>50</th>\n",
              "      <td>31.780424</td>\n",
              "    </tr>\n",
              "  </tbody>\n",
              "</table>\n",
              "</div>\n",
              "      <button class=\"colab-df-convert\" onclick=\"convertToInteractive('df-84673393-e1ef-4162-ba6e-7ede89c11fc8')\"\n",
              "              title=\"Convert this dataframe to an interactive table.\"\n",
              "              style=\"display:none;\">\n",
              "        \n",
              "  <svg xmlns=\"http://www.w3.org/2000/svg\" height=\"24px\"viewBox=\"0 0 24 24\"\n",
              "       width=\"24px\">\n",
              "    <path d=\"M0 0h24v24H0V0z\" fill=\"none\"/>\n",
              "    <path d=\"M18.56 5.44l.94 2.06.94-2.06 2.06-.94-2.06-.94-.94-2.06-.94 2.06-2.06.94zm-11 1L8.5 8.5l.94-2.06 2.06-.94-2.06-.94L8.5 2.5l-.94 2.06-2.06.94zm10 10l.94 2.06.94-2.06 2.06-.94-2.06-.94-.94-2.06-.94 2.06-2.06.94z\"/><path d=\"M17.41 7.96l-1.37-1.37c-.4-.4-.92-.59-1.43-.59-.52 0-1.04.2-1.43.59L10.3 9.45l-7.72 7.72c-.78.78-.78 2.05 0 2.83L4 21.41c.39.39.9.59 1.41.59.51 0 1.02-.2 1.41-.59l7.78-7.78 2.81-2.81c.8-.78.8-2.07 0-2.86zM5.41 20L4 18.59l7.72-7.72 1.47 1.35L5.41 20z\"/>\n",
              "  </svg>\n",
              "      </button>\n",
              "      \n",
              "  <style>\n",
              "    .colab-df-container {\n",
              "      display:flex;\n",
              "      flex-wrap:wrap;\n",
              "      gap: 12px;\n",
              "    }\n",
              "\n",
              "    .colab-df-convert {\n",
              "      background-color: #E8F0FE;\n",
              "      border: none;\n",
              "      border-radius: 50%;\n",
              "      cursor: pointer;\n",
              "      display: none;\n",
              "      fill: #1967D2;\n",
              "      height: 32px;\n",
              "      padding: 0 0 0 0;\n",
              "      width: 32px;\n",
              "    }\n",
              "\n",
              "    .colab-df-convert:hover {\n",
              "      background-color: #E2EBFA;\n",
              "      box-shadow: 0px 1px 2px rgba(60, 64, 67, 0.3), 0px 1px 3px 1px rgba(60, 64, 67, 0.15);\n",
              "      fill: #174EA6;\n",
              "    }\n",
              "\n",
              "    [theme=dark] .colab-df-convert {\n",
              "      background-color: #3B4455;\n",
              "      fill: #D2E3FC;\n",
              "    }\n",
              "\n",
              "    [theme=dark] .colab-df-convert:hover {\n",
              "      background-color: #434B5C;\n",
              "      box-shadow: 0px 1px 3px 1px rgba(0, 0, 0, 0.15);\n",
              "      filter: drop-shadow(0px 1px 2px rgba(0, 0, 0, 0.3));\n",
              "      fill: #FFFFFF;\n",
              "    }\n",
              "  </style>\n",
              "\n",
              "      <script>\n",
              "        const buttonEl =\n",
              "          document.querySelector('#df-84673393-e1ef-4162-ba6e-7ede89c11fc8 button.colab-df-convert');\n",
              "        buttonEl.style.display =\n",
              "          google.colab.kernel.accessAllowed ? 'block' : 'none';\n",
              "\n",
              "        async function convertToInteractive(key) {\n",
              "          const element = document.querySelector('#df-84673393-e1ef-4162-ba6e-7ede89c11fc8');\n",
              "          const dataTable =\n",
              "            await google.colab.kernel.invokeFunction('convertToInteractive',\n",
              "                                                     [key], {});\n",
              "          if (!dataTable) return;\n",
              "\n",
              "          const docLinkHtml = 'Like what you see? Visit the ' +\n",
              "            '<a target=\"_blank\" href=https://colab.research.google.com/notebooks/data_table.ipynb>data table notebook</a>'\n",
              "            + ' to learn more about interactive tables.';\n",
              "          element.innerHTML = '';\n",
              "          dataTable['output_type'] = 'display_data';\n",
              "          await google.colab.output.renderOutput(dataTable, element);\n",
              "          const docLink = document.createElement('div');\n",
              "          docLink.innerHTML = docLinkHtml;\n",
              "          element.appendChild(docLink);\n",
              "        }\n",
              "      </script>\n",
              "    </div>\n",
              "  </div>\n",
              "  "
            ]
          },
          "metadata": {},
          "execution_count": 10
        }
      ]
    },
    {
      "cell_type": "markdown",
      "source": [
        "##### **5. Obtain the following values.**\n",
        "##### **a. Mean Squared error and R-squared value for training data and validation data respectively.**\n",
        "##### **b. Plot the scatter plot for ytrue against ypredicted for training data and validation respectively**"
      ],
      "metadata": {
        "id": "fc650PTfgIBp"
      }
    },
    {
      "cell_type": "code",
      "source": [
        "# Model Building:\n",
        "y_pred_train = GS.predict ( house2.loc [ :, 'CRIM': 'LSTAT' ])\n",
        "y_pred_valid = GS.predict ( validation2.loc [ :, 'CRIM': 'LSTAT' ])\n",
        "\n",
        "print (\"Training Data metrics - \")\n",
        "print ( 'R2 Score', metrics.r2_score ( house.loc [ :, 'Price' ], y_pred_train ))\n",
        "print ( 'MSE', metrics.mean_squared_error ( house.loc [ :, 'Price' ],\n",
        "                                                 y_pred_train))\n",
        "\n",
        "print (\"\\nValidation Data metrics - \")\n",
        "print ( 'R2 score', metrics.r2_score ( validation_data.loc [ :,'Price' ],\n",
        "                                           y_pred_valid ))\n",
        "print( 'MSE', metrics.mean_squared_error ( validation_data.loc [ :, 'Price' ],\n",
        "                                          y_pred_valid))"
      ],
      "metadata": {
        "colab": {
          "base_uri": "https://localhost:8080/"
        },
        "id": "ebTjQRxEgIUv",
        "outputId": "803f022e-0098-4b97-bf25-0eb8c5e036ce"
      },
      "execution_count": 11,
      "outputs": [
        {
          "output_type": "stream",
          "name": "stdout",
          "text": [
            "Training Data metrics - \n",
            "R2 Score 0.9680105817527793\n",
            "MSE 2.7115674739123397\n",
            "\n",
            "Validation Data metrics - \n",
            "R2 score 0.9050727465642161\n",
            "MSE 8.187934099746741\n"
          ]
        }
      ]
    },
    {
      "cell_type": "code",
      "source": [
        "plt.title('Trained model - Ypred vs Y')\n",
        "sns.scatterplot ( x = house.loc [ :, 'Price' ], y = y_pred_train )\n",
        "plt.show()\n",
        "\n",
        "plt.title ( 'Validation model - Ypred vs Y' )\n",
        "sns.scatterplot ( x = validation_data.loc [ :, 'Price' ], y = y_pred_valid)\n",
        "plt.show()"
      ],
      "metadata": {
        "colab": {
          "base_uri": "https://localhost:8080/",
          "height": 943
        },
        "id": "rYl2jvt3g9ST",
        "outputId": "32ce05a3-7b0b-4456-9d18-82ab66463430"
      },
      "execution_count": 12,
      "outputs": [
        {
          "output_type": "display_data",
          "data": {
            "text/plain": [
              "<Figure size 640x480 with 1 Axes>"
            ],
            "image/png": "[encoded data removed]"
          },
          "metadata": {}
        },
        {
          "output_type": "display_data",
          "data": {
            "text/plain": [
              "<Figure size 640x480 with 1 Axes>"
            ],
            "image/png": "[encoded data removed]"
          },
          "metadata": {}
        }
      ]
    },
    {
      "cell_type": "markdown",
      "source": [
        "##### **6. For this part, you will have to write Python code from scratch without using any in-built python functions or external libraries, for gradient descent and use the same to train the linear model and provide the output for Questions 4 and 5 using the model you build from scratch.**"
      ],
      "metadata": {
        "id": "8EZn89YhjWaR"
      }
    },
    {
      "cell_type": "code",
      "source": [
        "n = len ( train_valid_data2 [ 'Price' ])\n",
        "X = np.array ( train_valid_data2.loc [ :, 'CRIM': 'LSTAT' ])\n",
        "X = sm.add_constant ( X )\n",
        "Y = np.array ( train_valid_data2.loc [ :, 'Price' ])\n",
        "Y = Y.reshape ( 455, 1 )"
      ],
      "metadata": {
        "id": "y1M1U9ngja7W"
      },
      "execution_count": 13,
      "outputs": []
    },
    {
      "cell_type": "code",
      "source": [
        "lr = 0.1\n",
        "epochs = 2000\n",
        "\n",
        "# Initial guess for w\n",
        "w = np.zeros ( 14 )\n",
        "w = w.reshape ( 14, 1 )\n",
        "\n",
        "# Gradient Descent alogrithm\n",
        "for i in range ( epochs ):\n",
        "    Yest = (( w.T.dot ( X.T )).T )\n",
        "    cost = ( 1 / n ) * sum (( Y - Yest ) ** 2 )\n",
        "    grad_Jw = ( -2 / n ) * ( X.T.dot ( Y - Yest ))\n",
        "    \n",
        "    w = w - lr * grad_Jw\n",
        "    \n",
        "    Yest = (( w.T.dot ( X.T )).T )   \n",
        "    cost_new = ( 1 / n ) * sum (( Y - Yest ) ** 2 )\n",
        "    \n",
        "    if (( cost - cost_new ) / cost ) >= 0.0001 :\n",
        "          cost = cost_new\n",
        "    else:\n",
        "        break   \n",
        "        "
      ],
      "metadata": {
        "id": "NWbdedR0jqrf"
      },
      "execution_count": 14,
      "outputs": []
    },
    {
      "cell_type": "markdown",
      "source": [
        "**Generating predict values**"
      ],
      "metadata": {
        "id": "kwaPoAqZmVKa"
      }
    },
    {
      "cell_type": "code",
      "source": [
        "normalise_test = ( test_data - test_data.mean()) / ( test_data.std ())\n",
        "X_test = np.array ( normalise_test.loc [ :, 'CRIM': 'LSTAT' ])\n",
        "X_test = sm.add_constant ( X_test )\n",
        "ypred_test_gd = (( w.T.dot ( X_test.T )).T )\n",
        "ypred_test_gd = ypred_test_gd * ( train_valid_data.loc [ :, 'Price' ].std()) + train_valid_data.loc [ :,'Price' ].mean ()\n",
        "\n",
        "ypred_test_gd_df = pd.DataFrame(data = ypred_test_gd, columns = [ 'Submisison Set Price_predicted' ])"
      ],
      "metadata": {
        "id": "2qES-B5OkjMA"
      },
      "execution_count": 15,
      "outputs": []
    },
    {
      "cell_type": "code",
      "source": [
        "normalised_house = ( house - house.mean ()) / ( house.std ())\n",
        "X_train = np.array ( normalised_house.loc [ :, 'CRIM' : 'LSTAT' ])\n",
        "X_train = sm.add_constant ( X_train )\n",
        "ypred_train_gd = (( w.T.dot ( X_train.T )).T )\n",
        "ypred_train_gd = ypred_train_gd * ( house.loc [ :, 'Price' ].std ()) + house.loc [ :, 'Price' ].mean()\n",
        "ypred_train_gd = ypred_train_gd.reshape ( 354, 1 )\n",
        "\n",
        "#Predication on validation dataset\n",
        "normalised_validation = ( validation_data - validation_data.mean ()) / ( validation_data.std ())\n",
        "X_valid = np.array ( normalised_validation.loc [ : , 'CRIM' : 'LSTAT' ])\n",
        "X_valid = sm.add_constant ( X_valid )\n",
        "ypred_valid_gd = (( w.T.dot ( X_valid.T )).T )\n",
        "ypred_valid_gd = ypred_valid_gd * ( validation_data.loc [ :, 'Price' ].std()) + validation_data.loc [ :, 'Price' ].mean()\n",
        "ypred_valid_gd = ypred_valid_gd.reshape ( 101, 1 )"
      ],
      "metadata": {
        "id": "3IXG2d4hms7a"
      },
      "execution_count": 16,
      "outputs": []
    },
    {
      "cell_type": "code",
      "source": [
        "# Training data score\n",
        "print( 'R2: ', metrics.r2_score ( house.loc [ :, 'Price' ], ypred_train_gd ))\n",
        "print( 'MSE: ', metrics.mean_squared_error ( house.loc [ :, 'Price' ], ypred_train_gd ))\n",
        "\n",
        "# Validation data score\n",
        "print( 'R2: ', metrics.r2_score ( validation_data.loc [ :, 'Price' ], ypred_valid_gd ))\n",
        "print( 'MSE: ', metrics.mean_squared_error ( validation_data.loc [ :, 'Price' ], ypred_valid_gd ))"
      ],
      "metadata": {
        "colab": {
          "base_uri": "https://localhost:8080/"
        },
        "id": "59yR2cKSozKi",
        "outputId": "f26d4040-f154-4e62-df9c-004032cfa67a"
      },
      "execution_count": 17,
      "outputs": [
        {
          "output_type": "stream",
          "name": "stdout",
          "text": [
            "R2:  0.7621558757920507\n",
            "MSE:  20.160741470172695\n",
            "R2:  0.7016222706550439\n",
            "MSE:  25.736520296157817\n"
          ]
        }
      ]
    },
    {
      "cell_type": "markdown",
      "source": [
        "#### **Q2 - Logistic Regression**"
      ],
      "metadata": {
        "id": "2Rj_kShHpcA2"
      }
    },
    {
      "cell_type": "code",
      "source": [
        "logdf = pd.read_csv ( 'lgtrain.csv')\n",
        "logdf_test = pd.read_csv ( 'lgtest.csv')\n",
        "x = logdf.loc [ :, 'bmi': 'race' ]\n",
        "y = logdf.loc [ :, 'complication' ]"
      ],
      "metadata": {
        "id": "SOpUMtKKrrS1"
      },
      "execution_count": 18,
      "outputs": []
    },
    {
      "cell_type": "markdown",
      "source": [
        "##### **1. Split the given train dataset into train and validation in a ratio of 80:20**"
      ],
      "metadata": {
        "id": "hOTdAkpRsWI5"
      }
    },
    {
      "cell_type": "code",
      "source": [
        "x_train, x_valid, y_train, y_valid = train_test_split ( x, y, test_size = 0.2,\n",
        "                                                       random_state = 100)"
      ],
      "metadata": {
        "id": "BZ_2VDIksXro"
      },
      "execution_count": 19,
      "outputs": []
    },
    {
      "cell_type": "code",
      "source": [
        "lg = LogisticRegression ( solver = 'liblinear' )\n",
        "lg.fit ( x_train, y_train )\n",
        "print ( 'Coefficients: ', lg.coef_ )\n",
        "print ( 'Intercepts: ', lg.intercept_ )"
      ],
      "metadata": {
        "colab": {
          "base_uri": "https://localhost:8080/"
        },
        "id": "OFMiMywfse9w",
        "outputId": "a229fea2-8461-4a52-c3c6-3e78363df672"
      },
      "execution_count": 20,
      "outputs": [
        {
          "output_type": "stream",
          "name": "stdout",
          "text": [
            "Coefficients:  [[-1.37535519e-02  2.18790068e-02  1.18870312e-01  1.61202404e-01\n",
            "   2.11739887e-02  1.86225776e-01  3.65368715e-01  4.12893813e-02\n",
            "   1.38918846e-01 -4.78367702e-01  1.75454000e-02  8.99736068e-02\n",
            "   4.37811916e-03  5.76173691e+00  1.21335685e-01  3.16044473e-01\n",
            "   9.96330087e-02 -9.71701562e-02  3.07667071e-03 -3.46948835e-02\n",
            "   1.85020766e-01 -8.02436287e-01  2.36340761e-01 -7.65574436e-02]]\n",
            "Intercepts:  [-2.94187242]\n"
          ]
        }
      ]
    },
    {
      "cell_type": "code",
      "source": [
        "ypred_train_lg = lg.predict ( x_train )\n",
        "ypred_valid_lg = lg.predict ( x_valid )"
      ],
      "metadata": {
        "id": "U9HTuqRZvXX_"
      },
      "execution_count": 21,
      "outputs": []
    },
    {
      "cell_type": "markdown",
      "source": [
        "##### **2. Plot the confusion matrix**"
      ],
      "metadata": {
        "id": "bfleeL9jw_11"
      }
    },
    {
      "cell_type": "code",
      "source": [
        "confusion_matrix = metrics.confusion_matrix ( y_train,  ypred_train_lg )\n",
        "display = metrics.ConfusionMatrixDisplay ( confusion_matrix )\n",
        "sns.set ( style = 'white' )\n",
        "display.plot ()\n",
        "\n",
        "# Classification report\n",
        "print ()\n",
        "print ( 'Training model classification report\\n\\n',\n",
        "       metrics.classification_report(y_train, ypred_train_lg ))"
      ],
      "metadata": {
        "colab": {
          "base_uri": "https://localhost:8080/",
          "height": 666
        },
        "id": "BP_uGx2nw_Gs",
        "outputId": "8ce1413a-3bb6-40b9-93f9-0962b4128790"
      },
      "execution_count": 22,
      "outputs": [
        {
          "output_type": "stream",
          "name": "stdout",
          "text": [
            "\n",
            "Training model classification report\n",
            "\n",
            "               precision    recall  f1-score   support\n",
            "\n",
            "           0       0.81      0.94      0.87      7915\n",
            "           1       0.66      0.34      0.45      2620\n",
            "\n",
            "    accuracy                           0.79     10535\n",
            "   macro avg       0.74      0.64      0.66     10535\n",
            "weighted avg       0.78      0.79      0.77     10535\n",
            "\n"
          ]
        },
        {
          "output_type": "display_data",
          "data": {
            "text/plain": [
              "<Figure size 640x480 with 2 Axes>"
            ],
            "image/png": "[encoded data removed]"
          },
          "metadata": {}
        }
      ]
    },
    {
      "cell_type": "markdown",
      "source": [
        "##### **3. Compute the Accuracy and F1 score of the validation dataset**"
      ],
      "metadata": {
        "id": "eu0-wZBsyVxr"
      }
    },
    {
      "cell_type": "code",
      "source": [
        "# Classification report\n",
        "print (' \\nValidation model classification report\\n\\n', \n",
        "       metrics.classification_report ( y_valid, ypred_valid_lg ))"
      ],
      "metadata": {
        "colab": {
          "base_uri": "https://localhost:8080/"
        },
        "id": "-kRFesu-yXJl",
        "outputId": "40579c6c-110e-4ee0-ae17-789f7b96c5f7"
      },
      "execution_count": 23,
      "outputs": [
        {
          "output_type": "stream",
          "name": "stdout",
          "text": [
            " \n",
            "Validation model classification report\n",
            "\n",
            "               precision    recall  f1-score   support\n",
            "\n",
            "           0       0.80      0.95      0.87      1934\n",
            "           1       0.69      0.34      0.45       700\n",
            "\n",
            "    accuracy                           0.78      2634\n",
            "   macro avg       0.74      0.64      0.66      2634\n",
            "weighted avg       0.77      0.78      0.76      2634\n",
            "\n"
          ]
        }
      ]
    },
    {
      "cell_type": "markdown",
      "source": [
        "##### **4. Predict the complication column of the test dataset and display**"
      ],
      "metadata": {
        "id": "pmev2tyDyx6Z"
      }
    },
    {
      "cell_type": "code",
      "source": [
        "ypred_lg_test = lg.predict( logdf_test.loc [ :, 'bmi': 'race' ])\n",
        "\n",
        "ypred_lg_test_df = pd.DataFrame ( data = ypred_lg_test, \n",
        "                            columns = [ 'Complication LogReg-Lib_predicted' ])\n",
        "\n",
        "print ( 'Logistic Regression output using ML libraries \\n', ypred_lg_test_df )"
      ],
      "metadata": {
        "colab": {
          "base_uri": "https://localhost:8080/"
        },
        "id": "H1uNEiv1yxhX",
        "outputId": "ecc263ac-0fef-49a3-f1a6-e29f7649c558"
      },
      "execution_count": 24,
      "outputs": [
        {
          "output_type": "stream",
          "name": "stdout",
          "text": [
            "Logistic Regression output using ML libraries \n",
            "       Complication LogReg-Lib_predicted\n",
            "0                                     1\n",
            "1                                     0\n",
            "2                                     0\n",
            "3                                     1\n",
            "4                                     0\n",
            "...                                 ...\n",
            "1461                                  0\n",
            "1462                                  0\n",
            "1463                                  0\n",
            "1464                                  1\n",
            "1465                                  0\n",
            "\n",
            "[1466 rows x 1 columns]\n"
          ]
        }
      ]
    },
    {
      "cell_type": "markdown",
      "source": [
        "##### **5. Apply gradient descent steps as done in Linear Regression (Q1)**"
      ],
      "metadata": {
        "id": "zGMqHVNZz-Tg"
      }
    },
    {
      "cell_type": "code",
      "source": [
        "normalised_Xtrain = ( x_train - x_train.mean ()) / x_train.std ()\n",
        "normalised_Ytrain = ( y_train - y_train.mean ()) / y_train.std ()\n",
        "\n",
        "n2 = len ( normalised_Xtrain [ 'bmi' ])\n",
        "\n",
        "# Initial weights\n",
        "w = np.zeros ( 25 )\n",
        "w = w.reshape ( 25, 1 )\n",
        "\n",
        "# X and Y as numpy array\n",
        "X = np.array ( normalised_Xtrain.loc [ :, 'bmi' : 'race' ])\n",
        "X2 = sm.add_constant ( X )\n",
        "Y = np.array ( normalised_Ytrain )\n",
        "Y2 = Y.reshape ( 10535, 1 )\n",
        "\n",
        "#learning rate and epochs\n",
        "lr_lg = 0.1\n",
        "epochs_lg = 1000\n",
        "\n",
        "wt = np.zeros(25)\n",
        "wt = wt.reshape(25,1)\n",
        "\n",
        "for j  in range ( epochs_lg ):\n",
        "  z2 = (( wt.T.dot ( X2.T )).T )\n",
        "  sigmoid = 1 / ( 1 + np.exp ( -z2 ))\n",
        "\n",
        "  cost2 = ( -1 / n2 ) * ( Y2.T.dot ( np.log ( sigmoid )) + ( 1 - Y2 ).T.dot ( np.log ( 1 - sigmoid )))\n",
        "  grad_Jw2 = ( 2 / n2 ) * ( X2.T.dot ( sigmoid - Y2 ))\n",
        "\n",
        "  wt = wt - lr_lg * grad_Jw2\n",
        "\n",
        "  z2 = (( wt.T.dot ( X2.T )).T ) \n",
        "  sigmoid = 1 / ( 1 + np.exp ( -z2 ))\n",
        "\n",
        "  cost_new2 = ( -1 / n2 ) * (( Y2.T ).dot ( np.log ( sigmoid )) + (( 1 - Y2 ).T ).dot ( np.log ( 1 - sigmoid )))\n",
        "  \n",
        "  if (( cost2 - cost_new2 ) / cost2 ) >= 0.001 :\n",
        "    cost2 = cost_new2              \n",
        "  else:\n",
        "    break"
      ],
      "metadata": {
        "id": "1cdYfUkl0D87"
      },
      "execution_count": 25,
      "outputs": []
    },
    {
      "cell_type": "code",
      "source": [
        "# Gradient Descent Logistic Regression prediction\n",
        "X_test = logdf_test.loc [ :, 'bmi': 'race' ]\n",
        "X_test_np = sm.add_constant ( np.array ( X_test ) )\n",
        "\n",
        "z_pred = (( wt.T.dot ( X_test_np.T )).T ) \n",
        "sigmoid_pred = 1 / ( 1 + np.exp ( -z_pred ))\n",
        "lg_pred_gd = ( np.round ( sigmoid_pred )).astype ( int )\n",
        "\n",
        "lg_pred_gd_df = pd.DataFrame ( data = lg_pred_gd, columns = ['Complications GD_predicted' ])\n",
        "\n",
        "print ( 'Complication prediction using GD for LogReg estimation: \\n', lg_pred_gd_df)"
      ],
      "metadata": {
        "colab": {
          "base_uri": "https://localhost:8080/"
        },
        "id": "vYvJEhOV1WLH",
        "outputId": "5e39cb78-9bd9-4467-b1d5-1f79687fc769"
      },
      "execution_count": 26,
      "outputs": [
        {
          "output_type": "stream",
          "name": "stdout",
          "text": [
            "Complication prediction using GD for LogReg estimation: \n",
            "       Complications GD_predicted\n",
            "0                              0\n",
            "1                              0\n",
            "2                              0\n",
            "3                              1\n",
            "4                              0\n",
            "...                          ...\n",
            "1461                           1\n",
            "1462                           0\n",
            "1463                           0\n",
            "1464                           1\n",
            "1465                           0\n",
            "\n",
            "[1466 rows x 1 columns]\n"
          ]
        }
      ]
    },
    {
      "cell_type": "markdown",
      "source": [
        "#### Q3. Multi-class classification"
      ],
      "metadata": {
        "id": "cxPayCD21-8_"
      }
    },
    {
      "cell_type": "code",
      "source": [
        "q3_df = pd.read_csv ( 'Q3dataset.csv' )\n",
        "q3_df.head()"
      ],
      "metadata": {
        "colab": {
          "base_uri": "https://localhost:8080/",
          "height": 357
        },
        "id": "9UqqS_fw2De5",
        "outputId": "78bc10b4-05b8-4c47-ca6c-f2dd892ec4b8"
      },
      "execution_count": 27,
      "outputs": [
        {
          "output_type": "execute_result",
          "data": {
            "text/plain": [
              "   Unnamed: 0  id  age     sex study_location  chest_pain_type  \\\n",
              "0           0   1   63    Male      Cleveland   typical angina   \n",
              "1           1   2   67    Male      Cleveland     asymptomatic   \n",
              "2           2   3   67    Male      Cleveland     asymptomatic   \n",
              "3           3   4   37    Male      Cleveland      non-anginal   \n",
              "4           4   5   41  Female      Cleveland  atypical angina   \n",
              "\n",
              "   resting_bloodpressure  cholestrol fasting_bloodsugar     resting_ecg  \\\n",
              "0                  145.0       233.0               True  lv hypertrophy   \n",
              "1                  160.0       286.0              False  lv hypertrophy   \n",
              "2                  120.0       229.0              False  lv hypertrophy   \n",
              "3                  130.0       250.0              False          normal   \n",
              "4                  130.0       204.0              False  lv hypertrophy   \n",
              "\n",
              "   maximum_heartrate_achieved exercise_induced angina  st_depression  \\\n",
              "0                       150.0                   False            2.3   \n",
              "1                       108.0                    True            1.5   \n",
              "2                       129.0                    True            2.6   \n",
              "3                       187.0                   False            3.5   \n",
              "4                       172.0                   False            1.4   \n",
              "\n",
              "         slope  major_vessel_colored               thal  target  \n",
              "0  downsloping                   0.0       fixed defect       0  \n",
              "1         flat                   3.0             normal       2  \n",
              "2         flat                   2.0  reversable defect       1  \n",
              "3  downsloping                   0.0             normal       0  \n",
              "4    upsloping                   0.0             normal       0  "
            ],
            "text/html": [
              "\n",
              "  <div id=\"df-4b62f49f-c1c7-415a-b038-e059e8cfe169\">\n",
              "    <div class=\"colab-df-container\">\n",
              "      <div>\n",
              "<style scoped>\n",
              "    .dataframe tbody tr th:only-of-type {\n",
              "        vertical-align: middle;\n",
              "    }\n",
              "\n",
              "    .dataframe tbody tr th {\n",
              "        vertical-align: top;\n",
              "    }\n",
              "\n",
              "    .dataframe thead th {\n",
              "        text-align: right;\n",
              "    }\n",
              "</style>\n",
              "<table border=\"1\" class=\"dataframe\">\n",
              "  <thead>\n",
              "    <tr style=\"text-align: right;\">\n",
              "      <th></th>\n",
              "      <th>Unnamed: 0</th>\n",
              "      <th>id</th>\n",
              "      <th>age</th>\n",
              "      <th>sex</th>\n",
              "      <th>study_location</th>\n",
              "      <th>chest_pain_type</th>\n",
              "      <th>resting_bloodpressure</th>\n",
              "      <th>cholestrol</th>\n",
              "      <th>fasting_bloodsugar</th>\n",
              "      <th>resting_ecg</th>\n",
              "      <th>maximum_heartrate_achieved</th>\n",
              "      <th>exercise_induced angina</th>\n",
              "      <th>st_depression</th>\n",
              "      <th>slope</th>\n",
              "      <th>major_vessel_colored</th>\n",
              "      <th>thal</th>\n",
              "      <th>target</th>\n",
              "    </tr>\n",
              "  </thead>\n",
              "  <tbody>\n",
              "    <tr>\n",
              "      <th>0</th>\n",
              "      <td>0</td>\n",
              "      <td>1</td>\n",
              "      <td>63</td>\n",
              "      <td>Male</td>\n",
              "      <td>Cleveland</td>\n",
              "      <td>typical angina</td>\n",
              "      <td>145.0</td>\n",
              "      <td>233.0</td>\n",
              "      <td>True</td>\n",
              "      <td>lv hypertrophy</td>\n",
              "      <td>150.0</td>\n",
              "      <td>False</td>\n",
              "      <td>2.3</td>\n",
              "      <td>downsloping</td>\n",
              "      <td>0.0</td>\n",
              "      <td>fixed defect</td>\n",
              "      <td>0</td>\n",
              "    </tr>\n",
              "    <tr>\n",
              "      <th>1</th>\n",
              "      <td>1</td>\n",
              "      <td>2</td>\n",
              "      <td>67</td>\n",
              "      <td>Male</td>\n",
              "      <td>Cleveland</td>\n",
              "      <td>asymptomatic</td>\n",
              "      <td>160.0</td>\n",
              "      <td>286.0</td>\n",
              "      <td>False</td>\n",
              "      <td>lv hypertrophy</td>\n",
              "      <td>108.0</td>\n",
              "      <td>True</td>\n",
              "      <td>1.5</td>\n",
              "      <td>flat</td>\n",
              "      <td>3.0</td>\n",
              "      <td>normal</td>\n",
              "      <td>2</td>\n",
              "    </tr>\n",
              "    <tr>\n",
              "      <th>2</th>\n",
              "      <td>2</td>\n",
              "      <td>3</td>\n",
              "      <td>67</td>\n",
              "      <td>Male</td>\n",
              "      <td>Cleveland</td>\n",
              "      <td>asymptomatic</td>\n",
              "      <td>120.0</td>\n",
              "      <td>229.0</td>\n",
              "      <td>False</td>\n",
              "      <td>lv hypertrophy</td>\n",
              "      <td>129.0</td>\n",
              "      <td>True</td>\n",
              "      <td>2.6</td>\n",
              "      <td>flat</td>\n",
              "      <td>2.0</td>\n",
              "      <td>reversable defect</td>\n",
              "      <td>1</td>\n",
              "    </tr>\n",
              "    <tr>\n",
              "      <th>3</th>\n",
              "      <td>3</td>\n",
              "      <td>4</td>\n",
              "      <td>37</td>\n",
              "      <td>Male</td>\n",
              "      <td>Cleveland</td>\n",
              "      <td>non-anginal</td>\n",
              "      <td>130.0</td>\n",
              "      <td>250.0</td>\n",
              "      <td>False</td>\n",
              "      <td>normal</td>\n",
              "      <td>187.0</td>\n",
              "      <td>False</td>\n",
              "      <td>3.5</td>\n",
              "      <td>downsloping</td>\n",
              "      <td>0.0</td>\n",
              "      <td>normal</td>\n",
              "      <td>0</td>\n",
              "    </tr>\n",
              "    <tr>\n",
              "      <th>4</th>\n",
              "      <td>4</td>\n",
              "      <td>5</td>\n",
              "      <td>41</td>\n",
              "      <td>Female</td>\n",
              "      <td>Cleveland</td>\n",
              "      <td>atypical angina</td>\n",
              "      <td>130.0</td>\n",
              "      <td>204.0</td>\n",
              "      <td>False</td>\n",
              "      <td>lv hypertrophy</td>\n",
              "      <td>172.0</td>\n",
              "      <td>False</td>\n",
              "      <td>1.4</td>\n",
              "      <td>upsloping</td>\n",
              "      <td>0.0</td>\n",
              "      <td>normal</td>\n",
              "      <td>0</td>\n",
              "    </tr>\n",
              "  </tbody>\n",
              "</table>\n",
              "</div>\n",
              "      <button class=\"colab-df-convert\" onclick=\"convertToInteractive('df-4b62f49f-c1c7-415a-b038-e059e8cfe169')\"\n",
              "              title=\"Convert this dataframe to an interactive table.\"\n",
              "              style=\"display:none;\">\n",
              "        \n",
              "  <svg xmlns=\"http://www.w3.org/2000/svg\" height=\"24px\"viewBox=\"0 0 24 24\"\n",
              "       width=\"24px\">\n",
              "    <path d=\"M0 0h24v24H0V0z\" fill=\"none\"/>\n",
              "    <path d=\"M18.56 5.44l.94 2.06.94-2.06 2.06-.94-2.06-.94-.94-2.06-.94 2.06-2.06.94zm-11 1L8.5 8.5l.94-2.06 2.06-.94-2.06-.94L8.5 2.5l-.94 2.06-2.06.94zm10 10l.94 2.06.94-2.06 2.06-.94-2.06-.94-.94-2.06-.94 2.06-2.06.94z\"/><path d=\"M17.41 7.96l-1.37-1.37c-.4-.4-.92-.59-1.43-.59-.52 0-1.04.2-1.43.59L10.3 9.45l-7.72 7.72c-.78.78-.78 2.05 0 2.83L4 21.41c.39.39.9.59 1.41.59.51 0 1.02-.2 1.41-.59l7.78-7.78 2.81-2.81c.8-.78.8-2.07 0-2.86zM5.41 20L4 18.59l7.72-7.72 1.47 1.35L5.41 20z\"/>\n",
              "  </svg>\n",
              "      </button>\n",
              "      \n",
              "  <style>\n",
              "    .colab-df-container {\n",
              "      display:flex;\n",
              "      flex-wrap:wrap;\n",
              "      gap: 12px;\n",
              "    }\n",
              "\n",
              "    .colab-df-convert {\n",
              "      background-color: #E8F0FE;\n",
              "      border: none;\n",
              "      border-radius: 50%;\n",
              "      cursor: pointer;\n",
              "      display: none;\n",
              "      fill: #1967D2;\n",
              "      height: 32px;\n",
              "      padding: 0 0 0 0;\n",
              "      width: 32px;\n",
              "    }\n",
              "\n",
              "    .colab-df-convert:hover {\n",
              "      background-color: #E2EBFA;\n",
              "      box-shadow: 0px 1px 2px rgba(60, 64, 67, 0.3), 0px 1px 3px 1px rgba(60, 64, 67, 0.15);\n",
              "      fill: #174EA6;\n",
              "    }\n",
              "\n",
              "    [theme=dark] .colab-df-convert {\n",
              "      background-color: #3B4455;\n",
              "      fill: #D2E3FC;\n",
              "    }\n",
              "\n",
              "    [theme=dark] .colab-df-convert:hover {\n",
              "      background-color: #434B5C;\n",
              "      box-shadow: 0px 1px 3px 1px rgba(0, 0, 0, 0.15);\n",
              "      filter: drop-shadow(0px 1px 2px rgba(0, 0, 0, 0.3));\n",
              "      fill: #FFFFFF;\n",
              "    }\n",
              "  </style>\n",
              "\n",
              "      <script>\n",
              "        const buttonEl =\n",
              "          document.querySelector('#df-4b62f49f-c1c7-415a-b038-e059e8cfe169 button.colab-df-convert');\n",
              "        buttonEl.style.display =\n",
              "          google.colab.kernel.accessAllowed ? 'block' : 'none';\n",
              "\n",
              "        async function convertToInteractive(key) {\n",
              "          const element = document.querySelector('#df-4b62f49f-c1c7-415a-b038-e059e8cfe169');\n",
              "          const dataTable =\n",
              "            await google.colab.kernel.invokeFunction('convertToInteractive',\n",
              "                                                     [key], {});\n",
              "          if (!dataTable) return;\n",
              "\n",
              "          const docLinkHtml = 'Like what you see? Visit the ' +\n",
              "            '<a target=\"_blank\" href=https://colab.research.google.com/notebooks/data_table.ipynb>data table notebook</a>'\n",
              "            + ' to learn more about interactive tables.';\n",
              "          element.innerHTML = '';\n",
              "          dataTable['output_type'] = 'display_data';\n",
              "          await google.colab.output.renderOutput(dataTable, element);\n",
              "          const docLink = document.createElement('div');\n",
              "          docLink.innerHTML = docLinkHtml;\n",
              "          element.appendChild(docLink);\n",
              "        }\n",
              "      </script>\n",
              "    </div>\n",
              "  </div>\n",
              "  "
            ]
          },
          "metadata": {},
          "execution_count": 27
        }
      ]
    },
    {
      "cell_type": "markdown",
      "source": [
        "**We will delete the unnamed column**"
      ],
      "metadata": {
        "id": "QuvSQaAX20aY"
      }
    },
    {
      "cell_type": "code",
      "source": [
        "q3_df.drop ( columns = 'Unnamed: 0', inplace = True )\n",
        "q3_df.info ()"
      ],
      "metadata": {
        "colab": {
          "base_uri": "https://localhost:8080/"
        },
        "id": "InSCldLF2zz7",
        "outputId": "8710e654-249b-4f87-8729-675924a5a463"
      },
      "execution_count": 28,
      "outputs": [
        {
          "output_type": "stream",
          "name": "stdout",
          "text": [
            "<class 'pandas.core.frame.DataFrame'>\n",
            "RangeIndex: 920 entries, 0 to 919\n",
            "Data columns (total 16 columns):\n",
            " #   Column                      Non-Null Count  Dtype  \n",
            "---  ------                      --------------  -----  \n",
            " 0   id                          920 non-null    int64  \n",
            " 1   age                         920 non-null    int64  \n",
            " 2   sex                         920 non-null    object \n",
            " 3   study_location              920 non-null    object \n",
            " 4   chest_pain_type             920 non-null    object \n",
            " 5   resting_bloodpressure       861 non-null    float64\n",
            " 6   cholestrol                  890 non-null    float64\n",
            " 7   fasting_bloodsugar          830 non-null    object \n",
            " 8   resting_ecg                 918 non-null    object \n",
            " 9   maximum_heartrate_achieved  865 non-null    float64\n",
            " 10  exercise_induced angina     865 non-null    object \n",
            " 11  st_depression               858 non-null    float64\n",
            " 12  slope                       611 non-null    object \n",
            " 13  major_vessel_colored        309 non-null    float64\n",
            " 14  thal                        434 non-null    object \n",
            " 15  target                      920 non-null    int64  \n",
            "dtypes: float64(5), int64(3), object(8)\n",
            "memory usage: 115.1+ KB\n"
          ]
        }
      ]
    },
    {
      "cell_type": "markdown",
      "source": [
        "##### **Data Pre-processing**"
      ],
      "metadata": {
        "id": "WX6-ZrPs3F4Y"
      }
    },
    {
      "cell_type": "markdown",
      "source": [
        "**1. You will find that there are many categorical attributes in the given dataset. For the binary attributes i.e., sex, fasting_bloodsugar, and exercise_induced angina you can convert it as 0 or 1 .**"
      ],
      "metadata": {
        "id": "Hn-SraOY3Sic"
      }
    },
    {
      "cell_type": "code",
      "source": [
        "q3_df [ 'sex' ] = q3_df [ 'sex' ].map ({ 'Male': 1, 'Female': 0 })\n",
        "q3_df [ 'fasting_bloodsugar' ] = q3_df [ 'fasting_bloodsugar' ].map ({ True: 1, False: 0})\n",
        "q3_df [ 'exercise_induced angina' ] = q3_df [ 'exercise_induced angina' ].map ({ True: 1, False: 0})"
      ],
      "metadata": {
        "id": "4joYVxYa3Vgj"
      },
      "execution_count": 29,
      "outputs": []
    },
    {
      "cell_type": "markdown",
      "source": [
        "**2. For the multi-label attributes, use can use one hot encoding which can be done using pd.get_dummies i.e., a method in the pandas package.**"
      ],
      "metadata": {
        "id": "sv4kmcGD32E1"
      }
    },
    {
      "cell_type": "code",
      "source": [
        "q3_df_new = pd.get_dummies ( q3_df, columns = [ 'study_location', \n",
        "                          'chest_pain_type', 'resting_ecg', 'slope', 'thal' ])"
      ],
      "metadata": {
        "id": "T_wZ4RFB31Pv"
      },
      "execution_count": 30,
      "outputs": []
    },
    {
      "cell_type": "markdown",
      "source": [
        "**3. You might also find that the dataset consists of so many null values i.e., so many values are missing. If we drop all the data with null values we will lose more that 70 % of our data. In order to avoid that you can use any imputation techniques in sklearn package i.e., mean, median, or k-means imputation You are encouraged to experiment  with all the imputations mentioned above.**"
      ],
      "metadata": {
        "id": "qj8u5CPJ4VWB"
      }
    },
    {
      "cell_type": "code",
      "source": [
        "# Using mode for cateogrical data.\n",
        "\n",
        "df_impute = q3_df_new.copy ( deep = True )\n",
        "df_impute [ 'fasting_bloodsugar' ].fillna ( df_impute [ 'fasting_bloodsugar' ].mode ()[ 0 ], inplace = True )\n",
        "df_impute [ 'exercise_induced angina' ].fillna ( df_impute [ 'exercise_induced angina' ].mode ()[ 0 ], inplace = True )"
      ],
      "metadata": {
        "id": "xDT70C2A4eks"
      },
      "execution_count": 31,
      "outputs": []
    },
    {
      "cell_type": "markdown",
      "source": [
        "**Using mean as an imputation technique**"
      ],
      "metadata": {
        "id": "ePfkhOL15flD"
      }
    },
    {
      "cell_type": "code",
      "source": [
        "mean_impute = SimpleImputer ( missing_values = np.nan, strategy = 'mean' )\n",
        "mean_impute_fit = mean_impute.fit ( df_impute.loc [:, \n",
        "          [ 'resting_bloodpressure', 'cholestrol', 'maximum_heartrate_achieved',\n",
        "           'st_depression', 'major_vessel_colored' ]])\n",
        "mean_impute_data = mean_impute_fit.transform ( df_impute.loc [:, \n",
        "          ['resting_bloodpressure', 'cholestrol', 'maximum_heartrate_achieved',\n",
        "           'st_depression', 'major_vessel_colored' ]])\n",
        "mean_imputed_df = df_impute.copy ( deep = True )\n",
        "mean_imputed_df.loc [ :, ['resting_bloodpressure',\n",
        "                          'cholestrol', 'maximum_heartrate_achieved', \n",
        "              'st_depression', 'major_vessel_colored']] = mean_impute_data [ :, : ]"
      ],
      "metadata": {
        "id": "er_MnwMr5ekp"
      },
      "execution_count": 32,
      "outputs": []
    },
    {
      "cell_type": "markdown",
      "source": [
        "**Using Median as an imputation technique**"
      ],
      "metadata": {
        "id": "dedQ3prB5k9X"
      }
    },
    {
      "cell_type": "code",
      "source": [
        "median_impute = SimpleImputer ( missing_values = np.nan, strategy = 'median' )\n",
        "median_impute_fit = median_impute.fit ( df_impute.loc [:, [ 'resting_bloodpressure',\n",
        "      'cholestrol', 'maximum_heartrate_achieved', 'st_depression',\n",
        "       'major_vessel_colored' ]])\n",
        "median_impute_data = median_impute_fit.transform ( df_impute.loc [:, [ \n",
        "    'resting_bloodpressure', 'cholestrol', 'maximum_heartrate_achieved',\n",
        "     'st_depression', 'major_vessel_colored' ]])\n",
        "median_imputed_df = df_impute.copy ( deep = True )\n",
        "median_imputed_df.loc [ :, [ 'resting_bloodpressure', 'cholestrol',\n",
        " 'maximum_heartrate_achieved', 'st_depression', 'major_vessel_colored']] = median_impute_data [ :, : ]"
      ],
      "metadata": {
        "id": "5y-PsygO5moz"
      },
      "execution_count": 33,
      "outputs": []
    },
    {
      "cell_type": "markdown",
      "source": [
        "**Using k-means imputation technique**"
      ],
      "metadata": {
        "id": "sGtkTEgl5rFY"
      }
    },
    {
      "cell_type": "code",
      "source": [
        "kmeans_impute = KNNImputer ( n_neighbors = round ( 0.7 * len ( q3_df [ 'id' ])),\n",
        "                            weights = 'uniform', metric = 'nan_euclidean' )\n",
        "kmeans_impute_fit = kmeans_impute.fit ( df_impute.loc [:, [ 'resting_bloodpressure',\n",
        "        'cholestrol', 'maximum_heartrate_achieved', 'st_depression', 'major_vessel_colored' ]])\n",
        "kmeans_impute_data = kmeans_impute_fit.transform ( df_impute.loc [ :, [\n",
        "     'resting_bloodpressure', 'cholestrol', 'maximum_heartrate_achieved',\n",
        "      'st_depression', 'major_vessel_colored' ]])\n",
        "kmeans_imputed_df = df_impute.copy ( deep = True )\n",
        "kmeans_imputed_df.loc [ :, [ 'resting_bloodpressure', 'cholestrol',\n",
        "'maximum_heartrate_achieved', 'st_depression', 'major_vessel_colored' ]] = kmeans_impute_data [ :, : ]"
      ],
      "metadata": {
        "id": "E4z9-u0l5rLm"
      },
      "execution_count": 34,
      "outputs": []
    },
    {
      "cell_type": "markdown",
      "source": [
        "**4. The study location attribute is not necessary to predict the severity of the disease so you can drop that column using df.drop i.e., a method in pandas dataframe**"
      ],
      "metadata": {
        "id": "6wV6RQYq7s7t"
      }
    },
    {
      "cell_type": "code",
      "source": [
        "mean_imputed_df.drop ( columns = [ 'study_location_Cleveland', 'study_location_Hungary', \n",
        "    'study_location_Switzerland', 'study_location_VA Long Beach'], inplace = True )\n",
        "median_imputed_df.drop ( columns = [ 'study_location_Cleveland', 'study_location_Hungary',\n",
        "    'study_location_Switzerland', 'study_location_VA Long Beach'], inplace = True )\n",
        "kmeans_imputed_df.drop ( columns = [ 'study_location_Cleveland', 'study_location_Hungary',\n",
        "    'study_location_Switzerland', 'study_location_VA Long Beach'], inplace = True )"
      ],
      "metadata": {
        "id": "yr-lWvuZ7xKt"
      },
      "execution_count": 35,
      "outputs": []
    },
    {
      "cell_type": "markdown",
      "source": [
        "##### **Data splitting and model training**"
      ],
      "metadata": {
        "id": "LGYIpGLKGDO8"
      }
    },
    {
      "cell_type": "markdown",
      "source": [
        "1. Once these pre-processing steps are complete you can keep the y (which we need to predict) as the target column and all others as the X (i.e., features)\n",
        "2. You can use sklearn.model_selection’s method i.e., train_test_split to split the data into\n",
        "training and test set. You should keep the train_test_split(X, y, stratify=y, test_size=0.2,shuffle=True, random_state=12) while splitting the dataset for grading it correctly.\n",
        "3. You can use MinMaxScaler()from sklearn.preprocessing to normalize our training and test data.\n",
        "4. Use sklearn.linear_model’s LogisticRegression for training the data and find the accuracy and plot the confusion matrix for the test data\n"
      ],
      "metadata": {
        "id": "ZCCxrrlnGLLI"
      }
    },
    {
      "cell_type": "code",
      "source": [
        "def train_fit_test ( imputed_df, dataset_type ):\n",
        "\n",
        "  # Separating features and labels\n",
        "  features = pd.concat([ imputed_df.iloc [ :, 1 : 10 ],\n",
        "                       imputed_df.iloc [ :, 11 : 28]],\n",
        "                       join='outer', axis = 1)\n",
        "  labels = pd.DataFrame ( data = imputed_df['target'], \n",
        "                          index = np.arange ( 0, len ( imputed_df [ 'target' ])),\n",
        "                          columns = [ 'target' ])\n",
        "  \n",
        "  # Splitting data into train and test\n",
        "  X_train, X_test, y_train, y_test = train_test_split ( features, labels, \n",
        "                                                       stratify = labels, \n",
        "                                                       test_size = 0.2,\n",
        "                                                       shuffle = True,\n",
        "                                                       random_state = 12 )\n",
        "  # Normalise data using MinMaxScaler\n",
        "  scaler = MinMaxScaler()\n",
        "  X_train_scaled = scaler.fit_transform ( X_train )\n",
        "  X_test_scaled = scaler.fit_transform ( X_test )\n",
        "\n",
        "  # Logistic regression model training\n",
        "  lg_model = LogisticRegression ( solver = 'liblinear', C = 0.01 )\n",
        "  lg_model.fit ( X_train_scaled, np.ravel ( y_train ))\n",
        "  ypred = lg_model.predict ( X_test_scaled )\n",
        "\n",
        "  accuracy_score = metrics.accuracy_score ( y_test, ypred )\n",
        "  print ( f'Accuracy Score for the { dataset_type } dataset: ', accuracy_score )\n",
        "\n",
        "  # Classification report\n",
        "  print ( f'\\n{ dataset_type } model classification report', \n",
        "         metrics.classification_report ( y_test, ypred ))\n",
        "\n",
        "  confusion_matrix = metrics.confusion_matrix ( y_test, ypred )\n",
        "  \n",
        "  print ( 'Confusion Matrix for the mean imputed dataset \\n', confusion_matrix )\n",
        "  \n",
        "  display = metrics.ConfusionMatrixDisplay ( confusion_matrix )\n",
        "  sns.set ( style = 'dark' )\n",
        "  display.plot ()"
      ],
      "metadata": {
        "id": "wo19u1u5GHAu"
      },
      "execution_count": 36,
      "outputs": []
    },
    {
      "cell_type": "code",
      "source": [
        "train_fit_test ( mean_imputed_df, 'Mean Imputed' )"
      ],
      "metadata": {
        "colab": {
          "base_uri": "https://localhost:8080/",
          "height": 929
        },
        "id": "XSrNciTlJ7tq",
        "outputId": "d2545ea9-71d2-401a-81d0-9b6d6137a225"
      },
      "execution_count": 37,
      "outputs": [
        {
          "output_type": "stream",
          "name": "stdout",
          "text": [
            "Accuracy Score for the Mean Imputed dataset:  0.5706521739130435\n",
            "\n",
            "Mean Imputed model classification report               precision    recall  f1-score   support\n",
            "\n",
            "           0       0.66      0.89      0.76        82\n",
            "           1       0.44      0.60      0.51        53\n",
            "           2       0.00      0.00      0.00        22\n",
            "           3       0.00      0.00      0.00        21\n",
            "           4       0.00      0.00      0.00         6\n",
            "\n",
            "    accuracy                           0.57       184\n",
            "   macro avg       0.22      0.30      0.25       184\n",
            "weighted avg       0.42      0.57      0.48       184\n",
            "\n",
            "Confusion Matrix for the mean imputed dataset \n",
            " [[73  9  0  0  0]\n",
            " [21 32  0  0  0]\n",
            " [ 8 14  0  0  0]\n",
            " [ 7 14  0  0  0]\n",
            " [ 2  4  0  0  0]]\n"
          ]
        },
        {
          "output_type": "stream",
          "name": "stderr",
          "text": [
            "/usr/local/lib/python3.9/dist-packages/sklearn/metrics/_classification.py:1344: UndefinedMetricWarning: Precision and F-score are ill-defined and being set to 0.0 in labels with no predicted samples. Use `zero_division` parameter to control this behavior.\n",
            "  _warn_prf(average, modifier, msg_start, len(result))\n",
            "/usr/local/lib/python3.9/dist-packages/sklearn/metrics/_classification.py:1344: UndefinedMetricWarning: Precision and F-score are ill-defined and being set to 0.0 in labels with no predicted samples. Use `zero_division` parameter to control this behavior.\n",
            "  _warn_prf(average, modifier, msg_start, len(result))\n",
            "/usr/local/lib/python3.9/dist-packages/sklearn/metrics/_classification.py:1344: UndefinedMetricWarning: Precision and F-score are ill-defined and being set to 0.0 in labels with no predicted samples. Use `zero_division` parameter to control this behavior.\n",
            "  _warn_prf(average, modifier, msg_start, len(result))\n"
          ]
        },
        {
          "output_type": "display_data",
          "data": {
            "text/plain": [
              "<Figure size 640x480 with 2 Axes>"
            ],
            "image/png": "[encoded data removed]"
          },
          "metadata": {}
        }
      ]
    },
    {
      "cell_type": "code",
      "source": [
        "train_fit_test ( median_imputed_df, 'Median Imputed' )"
      ],
      "metadata": {
        "colab": {
          "base_uri": "https://localhost:8080/",
          "height": 929
        },
        "id": "-MARFbOTL8DW",
        "outputId": "0a11207f-34e6-4eec-f0ef-575a1734aec6"
      },
      "execution_count": 38,
      "outputs": [
        {
          "output_type": "stream",
          "name": "stdout",
          "text": [
            "Accuracy Score for the Median Imputed dataset:  0.5706521739130435\n",
            "\n",
            "Median Imputed model classification report               precision    recall  f1-score   support\n",
            "\n",
            "           0       0.66      0.89      0.76        82\n",
            "           1       0.44      0.60      0.51        53\n",
            "           2       0.00      0.00      0.00        22\n",
            "           3       0.00      0.00      0.00        21\n",
            "           4       0.00      0.00      0.00         6\n",
            "\n",
            "    accuracy                           0.57       184\n",
            "   macro avg       0.22      0.30      0.25       184\n",
            "weighted avg       0.42      0.57      0.48       184\n",
            "\n",
            "Confusion Matrix for the mean imputed dataset \n",
            " [[73  9  0  0  0]\n",
            " [21 32  0  0  0]\n",
            " [ 8 14  0  0  0]\n",
            " [ 7 14  0  0  0]\n",
            " [ 2  4  0  0  0]]\n"
          ]
        },
        {
          "output_type": "stream",
          "name": "stderr",
          "text": [
            "/usr/local/lib/python3.9/dist-packages/sklearn/metrics/_classification.py:1344: UndefinedMetricWarning: Precision and F-score are ill-defined and being set to 0.0 in labels with no predicted samples. Use `zero_division` parameter to control this behavior.\n",
            "  _warn_prf(average, modifier, msg_start, len(result))\n",
            "/usr/local/lib/python3.9/dist-packages/sklearn/metrics/_classification.py:1344: UndefinedMetricWarning: Precision and F-score are ill-defined and being set to 0.0 in labels with no predicted samples. Use `zero_division` parameter to control this behavior.\n",
            "  _warn_prf(average, modifier, msg_start, len(result))\n",
            "/usr/local/lib/python3.9/dist-packages/sklearn/metrics/_classification.py:1344: UndefinedMetricWarning: Precision and F-score are ill-defined and being set to 0.0 in labels with no predicted samples. Use `zero_division` parameter to control this behavior.\n",
            "  _warn_prf(average, modifier, msg_start, len(result))\n"
          ]
        },
        {
          "output_type": "display_data",
          "data": {
            "text/plain": [
              "<Figure size 640x480 with 2 Axes>"
            ],
            "image/png": "[encoded data removed]"
          },
          "metadata": {}
        }
      ]
    },
    {
      "cell_type": "code",
      "source": [
        "train_fit_test ( kmeans_imputed_df, 'K-means Imputed' )"
      ],
      "metadata": {
        "colab": {
          "base_uri": "https://localhost:8080/",
          "height": 929
        },
        "id": "RKUICUl6L_KG",
        "outputId": "316a47a4-5420-4263-d304-bda531474b1c"
      },
      "execution_count": 39,
      "outputs": [
        {
          "output_type": "stream",
          "name": "stdout",
          "text": [
            "Accuracy Score for the K-means Imputed dataset:  0.5706521739130435\n",
            "\n",
            "K-means Imputed model classification report               precision    recall  f1-score   support\n",
            "\n",
            "           0       0.66      0.89      0.76        82\n",
            "           1       0.44      0.60      0.51        53\n",
            "           2       0.00      0.00      0.00        22\n",
            "           3       0.00      0.00      0.00        21\n",
            "           4       0.00      0.00      0.00         6\n",
            "\n",
            "    accuracy                           0.57       184\n",
            "   macro avg       0.22      0.30      0.25       184\n",
            "weighted avg       0.42      0.57      0.48       184\n",
            "\n",
            "Confusion Matrix for the mean imputed dataset \n",
            " [[73  9  0  0  0]\n",
            " [21 32  0  0  0]\n",
            " [ 8 14  0  0  0]\n",
            " [ 7 14  0  0  0]\n",
            " [ 2  4  0  0  0]]\n"
          ]
        },
        {
          "output_type": "stream",
          "name": "stderr",
          "text": [
            "/usr/local/lib/python3.9/dist-packages/sklearn/metrics/_classification.py:1344: UndefinedMetricWarning: Precision and F-score are ill-defined and being set to 0.0 in labels with no predicted samples. Use `zero_division` parameter to control this behavior.\n",
            "  _warn_prf(average, modifier, msg_start, len(result))\n",
            "/usr/local/lib/python3.9/dist-packages/sklearn/metrics/_classification.py:1344: UndefinedMetricWarning: Precision and F-score are ill-defined and being set to 0.0 in labels with no predicted samples. Use `zero_division` parameter to control this behavior.\n",
            "  _warn_prf(average, modifier, msg_start, len(result))\n",
            "/usr/local/lib/python3.9/dist-packages/sklearn/metrics/_classification.py:1344: UndefinedMetricWarning: Precision and F-score are ill-defined and being set to 0.0 in labels with no predicted samples. Use `zero_division` parameter to control this behavior.\n",
            "  _warn_prf(average, modifier, msg_start, len(result))\n"
          ]
        },
        {
          "output_type": "display_data",
          "data": {
            "text/plain": [
              "<Figure size 640x480 with 2 Axes>"
            ],
            "image/png": "[encoded data removed]"
          },
          "metadata": {}
        }
      ]
    }
  ]
}